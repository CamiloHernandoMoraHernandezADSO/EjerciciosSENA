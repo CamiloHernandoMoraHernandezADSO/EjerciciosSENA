{
 "cells": [
  {
   "cell_type": "code",
   "execution_count": 5,
   "metadata": {},
   "outputs": [
    {
     "name": "stdout",
     "output_type": "stream",
     "text": [
      "1 *  2 *  3 *  4 *  5 = 120\n"
     ]
    }
   ],
   "source": [
    "\"\"\"\n",
    "    Algoritmo Calcular la factorial de un número N  \n",
    "\"\"\"\n",
    "\n",
    "#Se define la función factorial con el parámetro n que será ingresado para calcular\n",
    "def factorial(n): \n",
    "\n",
    "    #Condición para verificar que el número ingresado no sea menor que cero\n",
    "    if n < 0: \n",
    "        print(\"El factorial de un numero negativo no existe\")\n",
    "    \n",
    "    #Si el número ingresado es cero, su factorial es uno\n",
    "    elif n == 0: \n",
    "        return 1\n",
    "    #Si el número ingresado es mayor que cero hará el proceso para el cálculo del factorial\n",
    "    else: \n",
    "        #Se define la variable fact para inciar el cálculo del factorial\n",
    "        fact = 1\n",
    "        \n",
    "        #El ciclo se repetirá hasta que el número ingresado llegue a uno \n",
    "        while(n > 1): \n",
    "            #se calcula el producto de los números hasta el número ingresado\n",
    "            fact *= n \n",
    "            \n",
    "            #Se disminuye el número ingresado para no hacer un ciclo infinito\n",
    "            n -= 1\n",
    "    #retorna el valor del cálculo del factorial\n",
    "    return fact \n",
    "\n",
    "#Se solicita el valor de n para calcular su factorial\n",
    "n = int(input(\"Ingrese un numero para calcular su factorial: \")); \n",
    "\n",
    "#Ciclo para mostrar la sucesión del producto de números hasta n\n",
    "for i in range(1,n+1):\n",
    "\n",
    "    #Condición para que muestre el producto de los números hasta n \n",
    "    if(i != n):\n",
    "        print(f\"{i} * \", end = ' ')\n",
    "    #cuando el \n",
    "    else:\n",
    "        print(f\"{i} = {factorial(n)}\")\n"
   ]
  },
  {
   "cell_type": "code",
   "execution_count": null,
   "metadata": {},
   "outputs": [],
   "source": []
  }
 ],
 "metadata": {
  "kernelspec": {
   "display_name": "Python 3.9.2 64-bit",
   "language": "python",
   "name": "python3"
  },
  "language_info": {
   "codemirror_mode": {
    "name": "ipython",
    "version": 3
   },
   "file_extension": ".py",
   "mimetype": "text/x-python",
   "name": "python",
   "nbconvert_exporter": "python",
   "pygments_lexer": "ipython3",
   "version": "3.9.2"
  },
  "orig_nbformat": 4,
  "vscode": {
   "interpreter": {
    "hash": "2b3401e4de645694a69141f2204c1ff9232f239e2074c8aa57b46c27c58af83f"
   }
  }
 },
 "nbformat": 4,
 "nbformat_minor": 2
}
