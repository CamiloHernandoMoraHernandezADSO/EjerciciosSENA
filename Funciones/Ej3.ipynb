{
 "cells": [
  {
   "cell_type": "code",
   "execution_count": 2,
   "metadata": {},
   "outputs": [
    {
     "name": "stdout",
     "output_type": "stream",
     "text": [
      "Su sueldo mensual mas el aumento es de: 1284000.0 y su sueldo anual es 15408000.0\n"
     ]
    }
   ],
   "source": [
    "\"\"\"\n",
    "    Calcular el sueldo que le corresponde al trabajador de una empresa que cobra $14.400.000 anual, el \n",
    "    programa debe realizar los cálculos en función de los siguientes criterios:\n",
    "    a. Si lleva más de 10 años en la empresa se le aplica un aumento del 10%.\n",
    "    b. Si lleva menos de 10 años, pero más que 5 se le aplica un aumento del 7%.\n",
    "    c. Si lleva menos de 5 años, pero más que 3 se le aplica un aumento del 5%.\n",
    "    d. Si lleva menos de 3 años se le aplica un aumento del 3%.\n",
    "\"\"\"\n",
    "\n",
    "def sueldo(tiempo):\n",
    "    sldB = 1200000\n",
    "    if tiempo > 10:\n",
    "        aumento = sldB + sldB*0.10\n",
    "    elif tiempo <= 10 and tiempo > 5:\n",
    "        aumento = sldB + sldB*0.07\n",
    "    elif tiempo <= 5 and tiempo > 3:\n",
    "        aumento = sldB + sldB * 0.05\n",
    "    elif tiempo <= 3 and tiempo > 0:\n",
    "        aumento = sldB + sldB * 0.03 \n",
    "    return aumento\n",
    "\n",
    "tiempo = int(input(\"Ingrese los anios en la empresa: \"))\n",
    "rta = sueldo(tiempo)\n",
    "print(f\"Su sueldo mensual mas el aumento es de: {rta} y su sueldo anual es {rta*12}\")"
   ]
  },
  {
   "cell_type": "code",
   "execution_count": null,
   "metadata": {},
   "outputs": [],
   "source": []
  }
 ],
 "metadata": {
  "kernelspec": {
   "display_name": "Python 3.9.2 64-bit",
   "language": "python",
   "name": "python3"
  },
  "language_info": {
   "codemirror_mode": {
    "name": "ipython",
    "version": 3
   },
   "file_extension": ".py",
   "mimetype": "text/x-python",
   "name": "python",
   "nbconvert_exporter": "python",
   "pygments_lexer": "ipython3",
   "version": "3.9.2"
  },
  "orig_nbformat": 4,
  "vscode": {
   "interpreter": {
    "hash": "2b3401e4de645694a69141f2204c1ff9232f239e2074c8aa57b46c27c58af83f"
   }
  }
 },
 "nbformat": 4,
 "nbformat_minor": 2
}
