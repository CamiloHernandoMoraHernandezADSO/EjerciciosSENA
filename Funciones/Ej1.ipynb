{
 "cells": [
  {
   "cell_type": "code",
   "execution_count": 3,
   "metadata": {},
   "outputs": [
    {
     "name": "stdout",
     "output_type": "stream",
     "text": [
      "El total a pagar es:  1500000\n"
     ]
    }
   ],
   "source": [
    "\"\"\"\n",
    "    Que calcule el gasto de agua en una vivienda dado el número de litros gastados, siendo el sistema\n",
    "    de cobro:\n",
    "    • La cuota fija mensual es de 600 pesos\n",
    "    • Los primeros 50 litros son gratis (opción 1)\n",
    "    • Mayor de 50 y 200 litros se cobra el litro a 1000 pesos (opción 2)\n",
    "    • Mayor de 200 litros se cobra el litro a 3000 pesos (opción 3)\n",
    "    • Indicación: hazlo con tres ‘SI’, uno por cada opción.\n",
    "\n",
    "\"\"\"\n",
    "\n",
    "\n",
    "def calcAgua(litros):\n",
    "    cuota = 600\n",
    "    if litros <= 50:\n",
    "        total = cuota\n",
    "    if litros > 50 and litros < 200:\n",
    "        total = litros * 1000 + 600\n",
    "    if litros > 200:\n",
    "        total = litros * 3000 + 600\n",
    "    return total\n",
    "\n",
    "litros = int(input(\"Ingrese la cantidad de litros gastados: \"))\n",
    "rta = calcAgua(litros)\n",
    "print(\"El total a pagar es: \", rta)\n"
   ]
  },
  {
   "cell_type": "code",
   "execution_count": null,
   "metadata": {},
   "outputs": [],
   "source": []
  }
 ],
 "metadata": {
  "kernelspec": {
   "display_name": "Python 3.9.5 64-bit",
   "language": "python",
   "name": "python3"
  },
  "language_info": {
   "codemirror_mode": {
    "name": "ipython",
    "version": 3
   },
   "file_extension": ".py",
   "mimetype": "text/x-python",
   "name": "python",
   "nbconvert_exporter": "python",
   "pygments_lexer": "ipython3",
   "version": "3.9.5"
  },
  "orig_nbformat": 4,
  "vscode": {
   "interpreter": {
    "hash": "f9a2183a959a16bb7b367f5be2dc4515885f715f13e4a8518dbc64860e566ec8"
   }
  }
 },
 "nbformat": 4,
 "nbformat_minor": 2
}
