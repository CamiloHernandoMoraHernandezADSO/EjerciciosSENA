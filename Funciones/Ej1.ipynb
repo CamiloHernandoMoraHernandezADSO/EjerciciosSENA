{
 "cells": [
  {
   "cell_type": "code",
   "execution_count": 2,
   "metadata": {},
   "outputs": [
    {
     "name": "stdout",
     "output_type": "stream",
     "text": [
      "El total a pagar es:  1500600\n"
     ]
    }
   ],
   "source": [
    "\"\"\"\n",
    "    Que calcule el gasto de agua en una vivienda dado el número de litros gastados, siendo el sistema\n",
    "    de cobro:\n",
    "    • La cuota fija mensual es de 600 pesos\n",
    "    • Los primeros 50 litros son gratis (opción 1)\n",
    "    • Mayor de 50 y 200 litros se cobra el litro a 1000 pesos (opción 2)\n",
    "    • Mayor de 200 litros se cobra el litro a 3000 pesos (opción 3)\n",
    "    • Indicación: hazlo con tres ‘SI’, uno por cada opción.\n",
    "\n",
    "\"\"\"\n",
    "\n",
    "#se define la función con el parámetro que serán los litros ingresados\n",
    "def calcAgua(litros):\n",
    "    \n",
    "    #se define la cuota base por mes\n",
    "    cuota = 600\n",
    "    \n",
    "    #Condición para evaluar si la cantidad de litros es menor o igual a cincuenta y omitir recargos \n",
    "    if litros <= 50:\n",
    "        \n",
    "        #se define el total a pagar\n",
    "        total = cuota\n",
    "    \n",
    "    #condicion para evaluar si la cantidad de litros está entre 51 y 200\n",
    "    if litros > 50 and litros <= 200:\n",
    "\n",
    "        #Se hace el cálculo para los recargos del total\n",
    "        total = litros * 1000 + cuota\n",
    "    \n",
    "    #condición para evaluar si la cantidad de litros es mayor que 200\n",
    "    if litros > 200:\n",
    "\n",
    "        #Cálculo para los recargos del total\n",
    "        total = litros * 3000 + cuota\n",
    "    \n",
    "    #Se retorna el valor en la función para mostrar el resultado\n",
    "    return total\n",
    "\n",
    "#Se solicita la cantidad de libros gastados\n",
    "litros = int(input(\"Ingrese la cantidad de litros gastados: \"))\n",
    "\n",
    "#Se guarda el valor que retorna la función en la variable rta para usarla en la impresión final\n",
    "rta = calcAgua(litros)\n",
    "\n",
    "#Se muestra el resultado\n",
    "print(\"El total a pagar es: \", rta)\n"
   ]
  },
  {
   "cell_type": "code",
   "execution_count": null,
   "metadata": {},
   "outputs": [],
   "source": []
  }
 ],
 "metadata": {
  "kernelspec": {
   "display_name": "Python 3.9.2 64-bit",
   "language": "python",
   "name": "python3"
  },
  "language_info": {
   "codemirror_mode": {
    "name": "ipython",
    "version": 3
   },
   "file_extension": ".py",
   "mimetype": "text/x-python",
   "name": "python",
   "nbconvert_exporter": "python",
   "pygments_lexer": "ipython3",
   "version": "3.9.2"
  },
  "orig_nbformat": 4,
  "vscode": {
   "interpreter": {
    "hash": "2b3401e4de645694a69141f2204c1ff9232f239e2074c8aa57b46c27c58af83f"
   }
  }
 },
 "nbformat": 4,
 "nbformat_minor": 2
}
