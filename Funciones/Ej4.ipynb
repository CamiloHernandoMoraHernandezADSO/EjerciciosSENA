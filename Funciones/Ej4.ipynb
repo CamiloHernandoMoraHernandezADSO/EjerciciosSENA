{
 "cells": [
  {
   "cell_type": "code",
   "execution_count": 8,
   "metadata": {},
   "outputs": [
    {
     "data": {
      "text/plain": [
       "'TE EQUIVOCASTE DE FIESTA'"
      ]
     },
     "execution_count": 8,
     "metadata": {},
     "output_type": "execute_result"
    }
   ],
   "source": [
    "\"\"\"\n",
    "    Lorena organiza una fiesta en la cual una computadora controla el ingreso mediante 5 claves. Si se \n",
    "    ingresa al menos una clave incorrecta esta imprimirá \"TE EQUIVOCASTE DE FIESTA\" y no permitirá \n",
    "    el ingreso. Si las 5 claves son correctas imprimirá \"BIENVENIDO A LA FIESTA\"\n",
    "    Las Claves son: \n",
    "        1: \"TIENES\" \n",
    "        2: \"QUE SER\" \n",
    "        3: \"INVITADO\" \n",
    "        4: \"PARA\" \n",
    "        5: \"INGRESAR\n",
    "\n",
    "\"\"\"\n",
    "\n",
    "def acceso():\n",
    "    cont = 0\n",
    "    clvAcceso = [\"TIENES\", \"QUE SER\", \"INVITADO\", \"PARA\", \"INGRESAR\"]\n",
    "\n",
    "    for i in range(0,5):\n",
    "        clave = input(f\"Ingrese la clave numero {i+1}: \")\n",
    "        clave = clave.upper()\n",
    "        if clave != clvAcceso[i]:\n",
    "            estAcceso = \"TE EQUIVOCASTE DE FIESTA\"\n",
    "            break\n",
    "        else:\n",
    "            cont += 1\n",
    "            print(f\"Clave {i+1} correcta.\")\n",
    "        if cont == 5:\n",
    "            estAcceso = \"BIENVENIDO A LA FIESTA\"\n",
    "    return estAcceso\n",
    "\n",
    "acceso()"
   ]
  },
  {
   "cell_type": "code",
   "execution_count": null,
   "metadata": {},
   "outputs": [],
   "source": []
  }
 ],
 "metadata": {
  "kernelspec": {
   "display_name": "Python 3.9.2 64-bit",
   "language": "python",
   "name": "python3"
  },
  "language_info": {
   "codemirror_mode": {
    "name": "ipython",
    "version": 3
   },
   "file_extension": ".py",
   "mimetype": "text/x-python",
   "name": "python",
   "nbconvert_exporter": "python",
   "pygments_lexer": "ipython3",
   "version": "3.9.2"
  },
  "orig_nbformat": 4,
  "vscode": {
   "interpreter": {
    "hash": "2b3401e4de645694a69141f2204c1ff9232f239e2074c8aa57b46c27c58af83f"
   }
  }
 },
 "nbformat": 4,
 "nbformat_minor": 2
}
