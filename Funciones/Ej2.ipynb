{
 "cells": [
  {
   "cell_type": "markdown",
   "metadata": {},
   "source": [
    "Forma 1"
   ]
  },
  {
   "cell_type": "code",
   "execution_count": 16,
   "metadata": {},
   "outputs": [
    {
     "name": "stdout",
     "output_type": "stream",
     "text": [
      "Elegiste papel, la maquina eligio piedra\n"
     ]
    },
    {
     "data": {
      "text/plain": [
       "'Papel cubre piedra. Gana papel'"
      ]
     },
     "execution_count": 16,
     "metadata": {},
     "output_type": "execute_result"
    }
   ],
   "source": [
    "\"\"\"\n",
    "    Realizar el siguiente juego: Piedra, papel o tijeras Este es un juego muy antiguo en el que intervienen\n",
    "    dos personas. Cada jugador hace su elección entre las tres alternativas existentes (piedra, papel o\n",
    "    tijeras) y el ganador se determina atendiendo a las siguientes reglas:\n",
    "    • La piedra gana a las tijeras (puede golpearlas hasta romperlas).\n",
    "    • Las tijeras ganan al papel (pueden cortarlo).\n",
    "    • El papel gana a la piedra (puede envolverla).\n",
    "    • Si las dos elecciones son la misma se produce un empate.\n",
    "\"\"\"\n",
    "\n",
    "from random import choice\n",
    "opciones = ['piedra', 'papel', 'tijeras']\n",
    "\n",
    "def PPoT():\n",
    "    ganador = 0\n",
    "\n",
    "    while ganador != 1:\n",
    "        jug = input(\"Ingrese piedra, papel o tijeras: \")\n",
    "        jug = jug.lower()\n",
    "        maquina = choice(opciones)\n",
    "        print(f\"Elegiste {jug}, la maquina eligio {maquina}\")\n",
    "        if jug == maquina:\n",
    "            estado = \"Empate\"\n",
    "            print(\"Se repite...\")\n",
    "        elif (jug == opciones[0] and maquina == opciones[1]) or (maquina == opciones[0] and jug == opciones[1]):\n",
    "            estado = \"Papel cubre piedra. Gana papel\"\n",
    "            ganador = 1\n",
    "        elif (jug == opciones[0] and maquina == opciones[2]) or (jug == opciones[2] and maquina == opciones[0]):\n",
    "            estado = \"Piedra rompe tijeras. Gana piedra\"\n",
    "            ganador = 1\n",
    "        elif (jug == opciones[1] and maquina == opciones[2]) or (jug == opciones[2] and maquina == opciones[1]):\n",
    "            estado = \"Tijeras rompen papel. Gana tijeras\"\n",
    "            ganador = 1\n",
    "        \n",
    "    return estado\n",
    "PPoT()"
   ]
  },
  {
   "cell_type": "code",
   "execution_count": null,
   "metadata": {},
   "outputs": [],
   "source": []
  }
 ],
 "metadata": {
  "kernelspec": {
   "display_name": "Python 3.9.2 64-bit",
   "language": "python",
   "name": "python3"
  },
  "language_info": {
   "codemirror_mode": {
    "name": "ipython",
    "version": 3
   },
   "file_extension": ".py",
   "mimetype": "text/x-python",
   "name": "python",
   "nbconvert_exporter": "python",
   "pygments_lexer": "ipython3",
   "version": "3.9.2"
  },
  "orig_nbformat": 4,
  "vscode": {
   "interpreter": {
    "hash": "2b3401e4de645694a69141f2204c1ff9232f239e2074c8aa57b46c27c58af83f"
   }
  }
 },
 "nbformat": 4,
 "nbformat_minor": 2
}
