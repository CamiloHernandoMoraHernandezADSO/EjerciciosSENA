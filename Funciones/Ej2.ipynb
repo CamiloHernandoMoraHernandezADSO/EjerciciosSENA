{
 "cells": [
  {
   "cell_type": "code",
   "execution_count": null,
   "metadata": {},
   "outputs": [],
   "source": [
    "\"\"\"\n",
    "    Realizar el siguiente juego: Piedra, papel o tijeras Este es un juego muy antiguo en el que intervienen\n",
    "    dos personas. Cada jugador hace su elección entre las tres alternativas existentes (piedra, papel o\n",
    "    tijeras) y el ganador se determina atendiendo a las siguientes reglas:\n",
    "    • La piedra gana a las tijeras (puede golpearlas hasta romperlas).\n",
    "    • Las tijeras ganan al papel (pueden cortarlo).\n",
    "    • El papel gana a la piedra (puede envolverla).\n",
    "    • Si las dos elecciones son la misma se produce un empate.\n",
    "\"\"\"\n",
    "ganador = 0\n",
    "opciones = ['piedra', 'papel', 'tijeras']\n",
    "while ganador != 1:\n",
    "    jug = input(\"Ingrese piedra, papel o tijeras: \")\n",
    "    jug = jug.lower()\n",
    "    \n"
   ]
  }
 ],
 "metadata": {
  "language_info": {
   "name": "python"
  },
  "orig_nbformat": 4
 },
 "nbformat": 4,
 "nbformat_minor": 2
}
