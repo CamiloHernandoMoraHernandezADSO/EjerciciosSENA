{
 "cells": [
  {
   "cell_type": "markdown",
   "metadata": {},
   "source": [
    "Forma 1"
   ]
  },
  {
   "cell_type": "code",
   "execution_count": 3,
   "metadata": {},
   "outputs": [
    {
     "name": "stdout",
     "output_type": "stream",
     "text": [
      "Elegiste piedra, la maquina eligio papel\n"
     ]
    },
    {
     "data": {
      "text/plain": [
       "'Papel cubre piedra. Gana papel'"
      ]
     },
     "execution_count": 3,
     "metadata": {},
     "output_type": "execute_result"
    }
   ],
   "source": [
    "\"\"\"\n",
    "    Realizar el siguiente juego: Piedra, papel o tijeras Este es un juego muy antiguo en el que intervienen\n",
    "    dos personas. Cada jugador hace su elección entre las tres alternativas existentes (piedra, papel o\n",
    "    tijeras) y el ganador se determina atendiendo a las siguientes reglas:\n",
    "    • La piedra gana a las tijeras (puede golpearlas hasta romperlas).\n",
    "    • Las tijeras ganan al papel (pueden cortarlo).\n",
    "    • El papel gana a la piedra (puede envolverla).\n",
    "    • Si las dos elecciones son la misma se produce un empate.\n",
    "\"\"\"\n",
    "\n",
    "#Se importa la función choice de la librería random\n",
    "\n",
    "from random import choice\n",
    "\n",
    "#Se declara la lista opciones para tener las opciones posibles del juego\n",
    "opciones = ['piedra', 'papel', 'tijeras']\n",
    "\n",
    "#Se define la funcion Piedra papel o tijeras (PPoT) que contendrá todo el proceso \n",
    "def PPoT():\n",
    "\n",
    "    #contador de ganador\n",
    "    ganador = 0\n",
    "\n",
    "    #ciclo que se repetirá hasta hallar un ganador → 'mientras ganador sea diferente de uno' \n",
    "    while ganador != 1:\n",
    "\n",
    "        #se solicita la variable jug que guardará la selección del jugador\n",
    "        jug = input(\"Ingrese piedra, papel o tijeras: \")\n",
    "\n",
    "        #se usa la función lower() para que el valor ingresado en la variable jugador sea convertido en minúsculas\n",
    "        jug = jug.lower()\n",
    "\n",
    "        #Choice funciona para seleccionar un elemento aleatorio de una lista\n",
    "        maquina = choice(opciones)\n",
    "\n",
    "        #Mostramos la selección de los jugadores \n",
    "        print(f\"Elegiste {jug}, la maquina eligio {maquina}\")\n",
    "\n",
    "        #Condición para verificar un empate\n",
    "        if jug == maquina:\n",
    "            \n",
    "            #Definimos un estado para conocer el resultado del juego\n",
    "            estado = \"Empate\"\n",
    "            print(\"Se repite...\")\n",
    "\n",
    "        #Condición  para verificar cuando gana piedra, papel o tijeras\n",
    "        elif (jug == opciones[0] and maquina == opciones[1]) or (maquina == opciones[0] and jug == opciones[1]):\n",
    "            estado = \"Papel cubre piedra. Gana papel\"\n",
    "            ganador = 1\n",
    "        elif (jug == opciones[0] and maquina == opciones[2]) or (jug == opciones[2] and maquina == opciones[0]):\n",
    "            estado = \"Piedra rompe tijeras. Gana piedra\"\n",
    "            ganador = 1\n",
    "        elif (jug == opciones[1] and maquina == opciones[2]) or (jug == opciones[2] and maquina == opciones[1]):\n",
    "            estado = \"Tijeras rompen papel. Gana tijeras\"\n",
    "            ganador = 1\n",
    "    #retorna el valor del estado para mostrarlo \n",
    "    return estado\n",
    "#Se llama la funcion para ejecutar el proceso\n",
    "PPoT()"
   ]
  },
  {
   "cell_type": "code",
   "execution_count": null,
   "metadata": {},
   "outputs": [],
   "source": []
  }
 ],
 "metadata": {
  "kernelspec": {
   "display_name": "Python 3.9.7 64-bit",
   "language": "python",
   "name": "python3"
  },
  "language_info": {
   "codemirror_mode": {
    "name": "ipython",
    "version": 3
   },
   "file_extension": ".py",
   "mimetype": "text/x-python",
   "name": "python",
   "nbconvert_exporter": "python",
   "pygments_lexer": "ipython3",
   "version": "3.9.7"
  },
  "orig_nbformat": 4,
  "vscode": {
   "interpreter": {
    "hash": "b13284c9cd83a8692897a612fe7a8765ffe5efb4a0a188ca069e9c38284143ca"
   }
  }
 },
 "nbformat": 4,
 "nbformat_minor": 2
}
