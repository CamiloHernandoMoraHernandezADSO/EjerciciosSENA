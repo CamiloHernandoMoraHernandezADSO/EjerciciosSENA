{
 "cells": [
  {
   "cell_type": "code",
   "execution_count": 17,
   "metadata": {},
   "outputs": [
    {
     "name": "stdout",
     "output_type": "stream",
     "text": [
      "No son multiplos de 5:  [3, 37, 39, 26, 19, 37, 21, 21, 27, 12, 13, 1, 26, 42, 3, 47, 47, 14, 27, 16, 32, 4, 13, 6, 42, 31, 27, 27, 47, 44, 14, 44, 21, 32, 31, 1, 11, 11, 34, 26, 17, 6, 11, 44]\n",
      "\n",
      " son multiplos de 5:  [45, 30, 15, 10, 45, 30]\n"
     ]
    }
   ],
   "source": [
    "\"\"\"\n",
    "    Crear un programa que registre 50 números enteros y luego muestren los elementos que son \n",
    "    múltiplos de 5, este se determina si con la fórmula de: \n",
    "    Numero_ingresado_porteclado mod = 0.\n",
    "\n",
    "\n",
    "\"\"\"\n",
    "from random import randrange\n",
    "\n",
    "numeros = []\n",
    "multiplos = []\n",
    "noMultiplos = []\n",
    "for i in range(1,51):\n",
    "    num = randrange(1,51)\n",
    "    numeros.append(num)\n",
    "def multiplo():\n",
    "    for j in numeros:\n",
    "        if j % 5 == 0:\n",
    "            multiplos.append(j)\n",
    "        else:\n",
    "            noMultiplos.append(j)\n",
    "    print(\"No son multiplos de 5: \", noMultiplos)\n",
    "    return multiplos\n",
    "    \n",
    "\n",
    "\n",
    "rta = multiplo()\n",
    "print(\"\\n Son multiplos de 5: \", rta)"
   ]
  },
  {
   "cell_type": "code",
   "execution_count": null,
   "metadata": {},
   "outputs": [],
   "source": []
  }
 ],
 "metadata": {
  "kernelspec": {
   "display_name": "Python 3.9.2 64-bit",
   "language": "python",
   "name": "python3"
  },
  "language_info": {
   "codemirror_mode": {
    "name": "ipython",
    "version": 3
   },
   "file_extension": ".py",
   "mimetype": "text/x-python",
   "name": "python",
   "nbconvert_exporter": "python",
   "pygments_lexer": "ipython3",
   "version": "3.9.2"
  },
  "orig_nbformat": 4,
  "vscode": {
   "interpreter": {
    "hash": "2b3401e4de645694a69141f2204c1ff9232f239e2074c8aa57b46c27c58af83f"
   }
  }
 },
 "nbformat": 4,
 "nbformat_minor": 2
}
