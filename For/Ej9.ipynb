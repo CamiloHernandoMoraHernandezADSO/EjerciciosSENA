{
 "cells": [
  {
   "cell_type": "code",
   "execution_count": 12,
   "metadata": {},
   "outputs": [
    {
     "name": "stdout",
     "output_type": "stream",
     "text": [
      "603200.0\n",
      "Pagar:  512720.0\n"
     ]
    }
   ],
   "source": [
    "\"\"\"\n",
    "    Diseñar un diagrama que permita emitir la factura correspondiente a una compra de un artículo del\n",
    "    cual se adquiere una o varias unidades y se conoce su precio antes de IVA (iva igual al 16%), y si el\n",
    "    precio bruto (precio de venta más IVA) es mayor de $500.000.oo se debe realizar un descuento del\n",
    "    15%.\n",
    "\"\"\"\n",
    "\n",
    "\n",
    "unidades = int(input(\"Ingrese las unidades del producto que compro: \"))\n",
    "\n",
    "acumPrecio = 0\n",
    "precioNI = int(input(\"Ingrese el valor del producto\"))\n",
    "while unidades > 0:\n",
    "    precioIVA = precioNI * 0.16\n",
    "    precioB = precioNI + precioIVA\n",
    "    acumPrecio += precioB\n",
    "    unidades -= 1\n",
    "print(acumPrecio)\n",
    "if acumPrecio > 500000:\n",
    "    acumPrecio = acumPrecio - (acumPrecio * 0.15)\n",
    "\n",
    "print(\"Pagar: \", acumPrecio)"
   ]
  },
  {
   "cell_type": "code",
   "execution_count": null,
   "metadata": {},
   "outputs": [],
   "source": []
  }
 ],
 "metadata": {
  "kernelspec": {
   "display_name": "Python 3.9.2 64-bit",
   "language": "python",
   "name": "python3"
  },
  "language_info": {
   "codemirror_mode": {
    "name": "ipython",
    "version": 3
   },
   "file_extension": ".py",
   "mimetype": "text/x-python",
   "name": "python",
   "nbconvert_exporter": "python",
   "pygments_lexer": "ipython3",
   "version": "3.9.2"
  },
  "orig_nbformat": 4,
  "vscode": {
   "interpreter": {
    "hash": "2b3401e4de645694a69141f2204c1ff9232f239e2074c8aa57b46c27c58af83f"
   }
  }
 },
 "nbformat": 4,
 "nbformat_minor": 2
}
