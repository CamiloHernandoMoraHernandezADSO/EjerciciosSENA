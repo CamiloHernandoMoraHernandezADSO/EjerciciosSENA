{
 "cells": [
  {
   "cell_type": "code",
   "execution_count": 9,
   "metadata": {},
   "outputs": [
    {
     "name": "stdout",
     "output_type": "stream",
     "text": [
      "Comision venta (1): 500.0\n",
      "Comision venta (2): 500.0\n",
      "Comision venta (3): 500.0\n",
      "Sueldo final vendedor (1): 1200500.0\n",
      "Comision venta (1): 1000.0\n",
      "Comision venta (2): 1000.0\n",
      "Comision venta (3): 1000.0\n",
      "Sueldo final vendedor (2): 1201500.0\n"
     ]
    }
   ],
   "source": [
    "\"\"\"\n",
    "    Una compañía de seguros tiene contratados a n vendedores. Cada uno hace tres ventas a la semana.\n",
    "    Su política de pagos es que un vendedor recibe un sueldo base, y un 10% extra por comisiones de\n",
    "    sus ventas. El gerente de su compañía desea saber cuanto dinero obtendrá en la semana cada\n",
    "    vendedor por concepto de comisiones por las tres ventas realizadas, y cuanto tomando en cuenta su\n",
    "    sueldo base y sus comisiones.\n",
    "\"\"\"\n",
    "\n",
    "vendedores = int(input(\"Ingrese la cantidad de vendedores: \"))\n",
    "sldB = 1200000\n",
    "AcumVentas = 0\n",
    "cont = 0\n",
    "while vendedores > 0:\n",
    "    cont += 1\n",
    "    for i in range(3):\n",
    "        venta = int(input(f\"Ingrese el valor de su venta ({i+1}): \"))\n",
    "        com = venta * 0.10\n",
    "        print(f\"Comision venta ({i+1}): {com}\")\n",
    "    AcumVentas += venta\n",
    "    extra = AcumVentas * 0.10\n",
    "    sldFin = extra + sldB\n",
    "    vendedores -= 1\n",
    "\n",
    "    print(f\"Sueldo final vendedor ({cont}): {sldFin}\")\n",
    "\n"
   ]
  }
 ],
 "metadata": {
  "kernelspec": {
   "display_name": "Python 3.9.2 64-bit",
   "language": "python",
   "name": "python3"
  },
  "language_info": {
   "codemirror_mode": {
    "name": "ipython",
    "version": 3
   },
   "file_extension": ".py",
   "mimetype": "text/x-python",
   "name": "python",
   "nbconvert_exporter": "python",
   "pygments_lexer": "ipython3",
   "version": "3.9.2"
  },
  "orig_nbformat": 4,
  "vscode": {
   "interpreter": {
    "hash": "2b3401e4de645694a69141f2204c1ff9232f239e2074c8aa57b46c27c58af83f"
   }
  }
 },
 "nbformat": 4,
 "nbformat_minor": 2
}
