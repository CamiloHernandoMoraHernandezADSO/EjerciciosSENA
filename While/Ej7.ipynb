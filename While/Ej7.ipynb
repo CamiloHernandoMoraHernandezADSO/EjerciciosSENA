{
 "cells": [
  {
   "cell_type": "code",
   "execution_count": null,
   "metadata": {},
   "outputs": [],
   "source": [
    "\"\"\"\n",
    "    Una compañía de seguros tiene contratados a n vendedores. Cada uno hace tres ventas a la semana.\n",
    "    Su política de pagos es que un vendedor recibe un sueldo base, y un 10% extra por comisiones de\n",
    "    sus ventas. El gerente de su compañía desea saber cuanto dinero obtendrá en la semana cada\n",
    "    vendedor por concepto de comisiones por las tres ventas realizadas, y cuanto tomando en cuenta su\n",
    "    sueldo base y sus comisiones.\n",
    "\"\"\"\n",
    "\n"
   ]
  }
 ],
 "metadata": {
  "kernelspec": {
   "display_name": "Python 3.9.2 64-bit",
   "language": "python",
   "name": "python3"
  },
  "language_info": {
   "name": "python",
   "version": "3.9.2"
  },
  "orig_nbformat": 4,
  "vscode": {
   "interpreter": {
    "hash": "2b3401e4de645694a69141f2204c1ff9232f239e2074c8aa57b46c27c58af83f"
   }
  }
 },
 "nbformat": 4,
 "nbformat_minor": 2
}
