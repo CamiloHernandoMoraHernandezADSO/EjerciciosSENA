{
 "cells": [
  {
   "cell_type": "code",
   "execution_count": 2,
   "metadata": {},
   "outputs": [
    {
     "name": "stdout",
     "output_type": "stream",
     "text": [
      "Derecho a presentar:  2\n",
      "No tiene derecho a presentar:  1\n"
     ]
    }
   ],
   "source": [
    "\"\"\"\n",
    "    El profesor de una materia desea conocer la cantidad de sus alumnos que no tienen derecho al examen \n",
    "    de nivelación. Diseñe un pseudocódigo que lea las calificaciones obtenidas en las 5 unidades por cada \n",
    "    uno de los 40 alumnos y escriba la cantidad de ellos que no tienen derecho al examen de nivelación.\n",
    "\n",
    "\"\"\"\n",
    "\n",
    "estudiantes = 0\n",
    "nPe = 0\n",
    "pE = 0\n",
    "while estudiantes <= 40:\n",
    "    nota1 = float(input(\"Ingrese su nota (1): \"))\n",
    "    nota2 = float(input(\"Ingrese su nota (2): \"))\n",
    "    nota3 = float(input(\"Ingrese su nota (3): \"))\n",
    "    nota4 = float(input(\"Ingrese su nota (4): \"))\n",
    "    nota5 = float(input(\"Ingrese su nota (5): \"))\n",
    "    prome = (nota1 + nota2 + nota3 + nota4 + nota5)/5\n",
    "    if prome < 2.5:\n",
    "        nPe += 1\n",
    "    else:\n",
    "        pE += 1\n",
    "    estudiantes += 1\n",
    "print(\"Derecho a presentar: \", pE)\n",
    "print(\"No tiene derecho a presentar: \", nPe )"
   ]
  },
  {
   "cell_type": "code",
   "execution_count": null,
   "metadata": {},
   "outputs": [],
   "source": []
  }
 ],
 "metadata": {
  "kernelspec": {
   "display_name": "Python 3.9.2 64-bit",
   "language": "python",
   "name": "python3"
  },
  "language_info": {
   "codemirror_mode": {
    "name": "ipython",
    "version": 3
   },
   "file_extension": ".py",
   "mimetype": "text/x-python",
   "name": "python",
   "nbconvert_exporter": "python",
   "pygments_lexer": "ipython3",
   "version": "3.9.2"
  },
  "orig_nbformat": 4,
  "vscode": {
   "interpreter": {
    "hash": "2b3401e4de645694a69141f2204c1ff9232f239e2074c8aa57b46c27c58af83f"
   }
  }
 },
 "nbformat": 4,
 "nbformat_minor": 2
}
