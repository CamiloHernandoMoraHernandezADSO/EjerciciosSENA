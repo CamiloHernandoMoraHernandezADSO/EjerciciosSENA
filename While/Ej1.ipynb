{
 "cells": [
  {
   "cell_type": "code",
   "execution_count": 8,
   "metadata": {},
   "outputs": [
    {
     "name": "stdout",
     "output_type": "stream",
     "text": [
      "Precio de venta gallina: $14000 [c/Kg]\n"
     ]
    }
   ],
   "source": [
    "\"\"\"\n",
    "    En una granja se requiere saber alguna información para determinar el precio de venta por cada kilo \n",
    "    de huevo. precio se determina a traves del promedio de calidad de las N gallinas que hay en la \n",
    "    granja. La calidad de cada gallina se obtiene según la formula:\n",
    "    calidad = (peso de la gallina * altura de la gallina)/Numero de huevos que pone;\n",
    "\"\"\"\n",
    "\n",
    "cantidad = int(input(\"Ingrese la cantidad de gallinas que hay en la granja: \"))\n",
    "cantidad2 = cantidad\n",
    "acum = 0\n",
    "while cantidad > 0:\n",
    "    peso = float(input(\"Ingrese el peso [Kg]: \"))\n",
    "    altura = int(input(\"Ingrese la altura [cm]: \"))\n",
    "    nh = int(input(\"Ingrese la cantidad de huevos: \"))\n",
    "    calidad = (peso*altura)/nh\n",
    "    acum += calidad\n",
    "    cantidad -= 1 \n",
    "    precio = acum/cantidad2\n",
    "\n",
    "print(f\"Precio de venta de kilos de huevos: ${int(precio)}00 [c/Kg]\")"
   ]
  },
  {
   "cell_type": "code",
   "execution_count": null,
   "metadata": {},
   "outputs": [],
   "source": []
  }
 ],
 "metadata": {
  "kernelspec": {
   "display_name": "Python 3.9.2 64-bit",
   "language": "python",
   "name": "python3"
  },
  "language_info": {
   "codemirror_mode": {
    "name": "ipython",
    "version": 3
   },
   "file_extension": ".py",
   "mimetype": "text/x-python",
   "name": "python",
   "nbconvert_exporter": "python",
   "pygments_lexer": "ipython3",
   "version": "3.9.2"
  },
  "vscode": {
   "interpreter": {
    "hash": "2b3401e4de645694a69141f2204c1ff9232f239e2074c8aa57b46c27c58af83f"
   }
  }
 },
 "nbformat": 4,
 "nbformat_minor": 4
}
