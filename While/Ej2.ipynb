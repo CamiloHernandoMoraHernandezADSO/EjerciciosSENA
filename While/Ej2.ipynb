{
 "cells": [
  {
   "cell_type": "code",
   "execution_count": 4,
   "metadata": {},
   "outputs": [
    {
     "name": "stdout",
     "output_type": "stream",
     "text": [
      "9.0\n",
      "20.0\n",
      "1.0\n",
      "1.25\n",
      "11.0\n",
      "30.0\n",
      "-1.0\n",
      "0.8333333333333334\n"
     ]
    }
   ],
   "source": [
    "\"\"\"\n",
    "    Hacer un algoritmo que al ingresar 2 números por la pantalla y se calcule la suma, resta, multiplicación \n",
    "    y división. El proceso debe terminar cuando se hallan realizado 10 procesos (Hacer uso de \n",
    "    contadores).\n",
    "\n",
    "\"\"\"\n",
    "cantPro = 10\n",
    "while cantPro > 0:\n",
    "    n1 = float(input(\"Ingrese un numero (n1): \"))\n",
    "    n2 = float(input(\"Ingrese un numero (n2 diferente de cero): \"))\n",
    "\n",
    "\n",
    "    result1 = n1 + n2\n",
    "    result2 = n1 * n2\n",
    "    result3 = n1 - n2\n",
    "    if n2 == 0:\n",
    "        print(\"Agregue n2 difernete de cero\")\n",
    "    else:\n",
    "        result4 = n1 / n2\n",
    "    print(result1)\n",
    "    print(result2)\n",
    "    print(result3)\n",
    "    print(result4)\n",
    "    cantPro-=1"
   ]
  },
  {
   "cell_type": "code",
   "execution_count": null,
   "metadata": {},
   "outputs": [],
   "source": []
  }
 ],
 "metadata": {
  "kernelspec": {
   "display_name": "Python 3.9.2 64-bit",
   "language": "python",
   "name": "python3"
  },
  "language_info": {
   "codemirror_mode": {
    "name": "ipython",
    "version": 3
   },
   "file_extension": ".py",
   "mimetype": "text/x-python",
   "name": "python",
   "nbconvert_exporter": "python",
   "pygments_lexer": "ipython3",
   "version": "3.9.2"
  },
  "orig_nbformat": 4,
  "vscode": {
   "interpreter": {
    "hash": "2b3401e4de645694a69141f2204c1ff9232f239e2074c8aa57b46c27c58af83f"
   }
  }
 },
 "nbformat": 4,
 "nbformat_minor": 2
}
