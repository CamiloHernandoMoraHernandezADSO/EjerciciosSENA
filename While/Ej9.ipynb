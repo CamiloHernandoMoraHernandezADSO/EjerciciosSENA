{
 "cells": [
  {
   "cell_type": "code",
   "execution_count": 167,
   "metadata": {},
   "outputs": [
    {
     "name": "stdout",
     "output_type": "stream",
     "text": [
      "Empate B y C\n",
      "Ejecutando segunga vuelta\n",
      "Gano C\n"
     ]
    }
   ],
   "source": [
    "\"\"\"\n",
    "    Diseñe un algoritmo que determine el resultado de la elección del representante estudiantil de la\n",
    "    universidad X, para ello se presentaron tres candidatos A, B, y C.\n",
    "    Para ganar la elección se debe obtener como mínimo el 51%.\n",
    "    En caso que no haya un ganador se repite la elección en una segunda vuelta.\n",
    "    Van a la segunda vuelta los dos candidatos que obtengan la más alta votación.\n",
    "    Se anula la elección en caso de producirse un empate doble por el segundo lugar o un empate triple.\n",
    "\"\"\"\n",
    "from random import randrange\n",
    "\n",
    "ganador = 0\n",
    "contA = 0\n",
    "contB = 0\n",
    "contC = 0\n",
    "while ganador != 1:\n",
    "    \n",
    "    for i in range(100):\n",
    "        vote = randrange(1, 4)\n",
    "        if vote == 1:\n",
    "            contA += 1\n",
    "        elif vote == 2:\n",
    "            contB += 1\n",
    "        elif vote == 3:\n",
    "            contC += 1\n",
    "    if contA > contB and contA > contC:\n",
    "        print(\"Gano A\")\n",
    "        ganador = 1\n",
    "    elif contB > contA and contB > contC:\n",
    "        print(\"Gano B\")\n",
    "        ganador = 1\n",
    "    elif contC > contB and contC > contA:\n",
    "        print(\"Gano C\")\n",
    "        ganador = 1\n",
    "    elif contA == contB:\n",
    "        print(\"Empate A y B\")\n",
    "        print(\"Ejecutando segunda vuelta\")\n",
    "        contA = 0\n",
    "        contB = 0\n",
    "        for i in range(100):\n",
    "            vote = randrange(1, 3)\n",
    "            if vote == 1:\n",
    "                contA += 1\n",
    "            elif vote == 2:\n",
    "                contB += 1\n",
    "        if contA > contB:\n",
    "            print(\"Gano A\")\n",
    "            ganador = 1\n",
    "        elif contB > contA:\n",
    "            print(\"Gano B\")\n",
    "            ganador = 1\n",
    "    elif contA == contC:\n",
    "        print(\"Empate A y C\")\n",
    "        print(\"Ejecutando segunda vuelta\")\n",
    "        contA = 0\n",
    "        contC = 0\n",
    "        for i in range(100):\n",
    "            vote = randrange(1, 3)\n",
    "            if vote == 1:\n",
    "                contA += 1\n",
    "            elif vote == 2:\n",
    "                contC += 1\n",
    "        if contA > contC:\n",
    "            print(\"Gano A\")\n",
    "            ganador = 1\n",
    "        elif contC > contA:\n",
    "            print(\"Gano C\")\n",
    "            ganador = 1\n",
    "    elif contC == contB:\n",
    "        print(\"Empate B y C\")\n",
    "        print(\"Ejecutando segunda vuelta\")\n",
    "        contB = 0\n",
    "        contC = 0\n",
    "        for i in range(100):\n",
    "            vote = randrange(1, 3)\n",
    "            if vote == 1:\n",
    "                contB += 1\n",
    "            elif vote == 2:\n",
    "                contC += 1\n",
    "        if contB > contC :\n",
    "            print(\"Gano B\")\n",
    "            ganador = 1\n",
    "        elif contC > contB:\n",
    "            print(\"Gano C\")\n",
    "            ganador = 1\n",
    "\n"
   ]
  },
  {
   "cell_type": "code",
   "execution_count": null,
   "metadata": {},
   "outputs": [],
   "source": []
  },
  {
   "cell_type": "code",
   "execution_count": null,
   "metadata": {},
   "outputs": [],
   "source": []
  }
 ],
 "metadata": {
  "kernelspec": {
   "display_name": "Python 3.9.2 64-bit",
   "language": "python",
   "name": "python3"
  },
  "language_info": {
   "codemirror_mode": {
    "name": "ipython",
    "version": 3
   },
   "file_extension": ".py",
   "mimetype": "text/x-python",
   "name": "python",
   "nbconvert_exporter": "python",
   "pygments_lexer": "ipython3",
   "version": "3.9.2"
  },
  "orig_nbformat": 4,
  "vscode": {
   "interpreter": {
    "hash": "2b3401e4de645694a69141f2204c1ff9232f239e2074c8aa57b46c27c58af83f"
   }
  }
 },
 "nbformat": 4,
 "nbformat_minor": 2
}
