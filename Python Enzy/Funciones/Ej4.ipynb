{
 "cells": [
  {
   "cell_type": "code",
   "execution_count": 8,
   "metadata": {},
   "outputs": [
    {
     "data": {
      "text/plain": [
       "'TE EQUIVOCASTE DE FIESTA'"
      ]
     },
     "execution_count": 8,
     "metadata": {},
     "output_type": "execute_result"
    }
   ],
   "source": [
    "\"\"\"\n",
    "    Lorena organiza una fiesta en la cual una computadora controla el ingreso mediante 5 claves. Si se \n",
    "    ingresa al menos una clave incorrecta esta imprimirá \"TE EQUIVOCASTE DE FIESTA\" y no permitirá \n",
    "    el ingreso. Si las 5 claves son correctas imprimirá \"BIENVENIDO A LA FIESTA\"\n",
    "    Las Claves son: \n",
    "        1: \"TIENES\" \n",
    "        2: \"QUE SER\" \n",
    "        3: \"INVITADO\" \n",
    "        4: \"PARA\" \n",
    "        5: \"INGRESAR\n",
    "\n",
    "\"\"\"\n",
    "#Se define la función acceso que contendrá todo el proceso de verificación\n",
    "def acceso():\n",
    "    #Se define un contador para un identificador de las claves\n",
    "    cont = 0\n",
    "\n",
    "    #se define la lista de las claves correctas\n",
    "    clvAcceso = [\"TIENES\", \"QUE SER\", \"INVITADO\", \"PARA\", \"INGRESAR\"]\n",
    "\n",
    "    #ciclo que recorre la cantidad de claves que hay\n",
    "    for i in range(0,5):\n",
    "\n",
    "        #se solicita las claves de forma ordenada\n",
    "        clave = input(f\"Ingrese la clave numero {i+1}: \")\n",
    "\n",
    "        #se usa la funcion upper() para poner la palabra ingresada en mayúscula\n",
    "        clave = clave.upper()\n",
    "\n",
    "        #condición si se equivoca de clave\n",
    "        if clave != clvAcceso[i]:\n",
    "\n",
    "            #se define un estado para  mostrar al terminar la función\n",
    "            estAcceso = \"TE EQUIVOCASTE DE FIESTA\"\n",
    "\n",
    "            #se rompe el ciclo para no solicitar más claves\n",
    "            break\n",
    "        else:\n",
    "            #Aumenta el contador para saber qué clave ha ingresado correctamente\n",
    "            cont += 1\n",
    "            \n",
    "            print(f\"Clave {i+1} correcta.\")\n",
    "\n",
    "        #Si el contador es igual a cinco, termina el proceso y da acceso\n",
    "        if cont == 5:\n",
    "            estAcceso = \"BIENVENIDO A LA FIESTA\"\n",
    "    \n",
    "    #retorna el estado de la función para mostrar\n",
    "    return estAcceso\n",
    "\n",
    "acceso()"
   ]
  },
  {
   "cell_type": "code",
   "execution_count": null,
   "metadata": {},
   "outputs": [],
   "source": []
  }
 ],
 "metadata": {
  "kernelspec": {
   "display_name": "Python 3.9.2 64-bit",
   "language": "python",
   "name": "python3"
  },
  "language_info": {
   "codemirror_mode": {
    "name": "ipython",
    "version": 3
   },
   "file_extension": ".py",
   "mimetype": "text/x-python",
   "name": "python",
   "nbconvert_exporter": "python",
   "pygments_lexer": "ipython3",
   "version": "3.9.2"
  },
  "orig_nbformat": 4,
  "vscode": {
   "interpreter": {
    "hash": "2b3401e4de645694a69141f2204c1ff9232f239e2074c8aa57b46c27c58af83f"
   }
  }
 },
 "nbformat": 4,
 "nbformat_minor": 2
}
