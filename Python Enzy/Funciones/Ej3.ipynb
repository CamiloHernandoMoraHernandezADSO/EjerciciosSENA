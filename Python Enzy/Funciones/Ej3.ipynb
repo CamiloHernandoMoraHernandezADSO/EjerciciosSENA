{
 "cells": [
  {
   "cell_type": "code",
   "execution_count": 2,
   "metadata": {},
   "outputs": [
    {
     "name": "stdout",
     "output_type": "stream",
     "text": [
      "Su sueldo mensual mas el aumento es de: 1284000.0 y su sueldo anual es 15408000.0\n"
     ]
    }
   ],
   "source": [
    "\"\"\"\n",
    "    Calcular el sueldo que le corresponde al trabajador de una empresa que cobra $14.400.000 anual, el \n",
    "    programa debe realizar los cálculos en función de los siguientes criterios:\n",
    "    a. Si lleva más de 10 años en la empresa se le aplica un aumento del 10%.\n",
    "    b. Si lleva menos de 10 años, pero más que 5 se le aplica un aumento del 7%.\n",
    "    c. Si lleva menos de 5 años, pero más que 3 se le aplica un aumento del 5%.\n",
    "    d. Si lleva menos de 3 años se le aplica un aumento del 3%.\n",
    "\"\"\"\n",
    "#Se define la función sueldo con el parámetro tiempo que funcionará para los cálculos\n",
    "def sueldo(tiempo):\n",
    "\n",
    "    #Sueldo base\n",
    "    sldB = 1200000\n",
    "\n",
    "    #Condición para saber si el tiempo agregado es mayor a diez\n",
    "    if tiempo > 10:\n",
    "        #Cálculo del salario total tras el aumento\n",
    "        aumento = sldB + sldB*0.10\n",
    "    elif tiempo <= 10 and tiempo > 5:\n",
    "        aumento = sldB + sldB*0.07\n",
    "    elif tiempo <= 5 and tiempo > 3:\n",
    "        aumento = sldB + sldB * 0.05\n",
    "    elif tiempo <= 3 and tiempo > 0:\n",
    "        aumento = sldB + sldB * 0.03 \n",
    "\n",
    "    #retorna el valor total del salario tras aumento\n",
    "    return aumento\n",
    "\n",
    "#Solicitud del tiempo de duración de la persona en la empresa\n",
    "tiempo = int(input(\"Ingrese los anios en la empresa: \"))\n",
    "\n",
    "#variable que guarda el valor retornado por la función\n",
    "rta = sueldo(tiempo)\n",
    "\n",
    "#impresión de resultados\n",
    "print(f\"Su sueldo mensual mas el aumento es de: {rta} y su sueldo anual es {rta*12}\")"
   ]
  },
  {
   "cell_type": "code",
   "execution_count": null,
   "metadata": {},
   "outputs": [],
   "source": []
  }
 ],
 "metadata": {
  "kernelspec": {
   "display_name": "Python 3.9.7 64-bit",
   "language": "python",
   "name": "python3"
  },
  "language_info": {
   "codemirror_mode": {
    "name": "ipython",
    "version": 3
   },
   "file_extension": ".py",
   "mimetype": "text/x-python",
   "name": "python",
   "nbconvert_exporter": "python",
   "pygments_lexer": "ipython3",
   "version": "3.9.7"
  },
  "orig_nbformat": 4,
  "vscode": {
   "interpreter": {
    "hash": "b13284c9cd83a8692897a612fe7a8765ffe5efb4a0a188ca069e9c38284143ca"
   }
  }
 },
 "nbformat": 4,
 "nbformat_minor": 2
}
