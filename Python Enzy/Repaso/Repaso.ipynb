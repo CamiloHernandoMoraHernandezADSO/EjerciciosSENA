{
 "cells": [
  {
   "cell_type": "markdown",
   "metadata": {},
   "source": [
    "1. Calcular la paga de un trabajador según sean las horas trabajadas y precio por hora para el trabajo\n",
    "    que realice, entre las siguientes opciones.\n",
    "\n",
    "    Oficio: Intendencia\n",
    "    Valor hora: 35000\n",
    "\n",
    "    Oficio: Directivo\n",
    "    Valor hora: 1200000\n",
    "\n",
    "    Oficio: Asistente\n",
    "    Valor hora: 50000\n",
    "\n",
    "    Oficio: Gerente\n",
    "    Valor hora: 1500000\n",
    "\n",
    "    Oficio: Administrativo\n",
    "    Valor hora: 80000\n"
   ]
  },
  {
   "cell_type": "code",
   "execution_count": 7,
   "metadata": {},
   "outputs": [
    {
     "name": "stdout",
     "output_type": "stream",
     "text": [
      "\n",
      "      \n",
      "    | |     Oficio     |\n",
      "    | |----------------|\n",
      "    |*|   Intendencia  |\n",
      "    |*|   Directivo    |\n",
      "    |*|   Asistente    |\n",
      "    |*|    Gerente     |\n",
      "    |*| Administrativo |\n",
      "    \n",
      "    \n",
      "Su salario es de: 175000\n"
     ]
    }
   ],
   "source": [
    "#Se imprime barra informativa de los oficios a seleccionar\n",
    "print(\"\"\"\n",
    "      \n",
    "    | |     Oficio     |\n",
    "    | |----------------|\n",
    "    |*|   Intendencia  |\n",
    "    |*|   Directivo    |\n",
    "    |*|   Asistente    |\n",
    "    |*|    Gerente     |\n",
    "    |*| Administrativo |\n",
    "    \n",
    "    \"\"\"\n",
    ")\n",
    "#Se declara una lista con los oficios\n",
    "oficio = [\"intendencia\",\"directivo\",\"Asistente\",\"gerente\",\"administrativo\"]\n",
    "\n",
    "#Se solicitan los datos al usuario para calcular su salario\n",
    "horas = int(input(\"Ingrese la cantidad de horas trabajadas: \"))\n",
    "solOficio = input(\"Ingrese el oficio al que pertenece: \")\n",
    "\n",
    "#Se re define la variable para que se validen los datos en minúscula\n",
    "solOficio = solOficio.lower()\n",
    "\n",
    "\n",
    "#Se valida el oficio que solicite el usuario y se le asigna el valor a la hora\n",
    "if solOficio == oficio[0]:\n",
    "    valorHora = 35000\n",
    "elif solOficio == oficio[1]:\n",
    "    valorHora = 1200000\n",
    "elif solOficio == oficio[2]:\n",
    "    valorHora = 50000\n",
    "elif solOficio == oficio[3]:\n",
    "    valorHora = 1500000\n",
    "elif solOficio == oficio[4]:\n",
    "    valorHora = 80000\n",
    "\n",
    "#Se muestra su salario segun la selección del oficio\n",
    "print(f\"Su salario es de: {horas * valorHora}\")"
   ]
  },
  {
   "cell_type": "markdown",
   "metadata": {},
   "source": [
    "2. \n",
    "    El impuesto anual del seguro de un auto depende del modelo del Vehiculo, del color, de la edad del\n",
    "    conductor y el tiempo que tiene conduciendo. Son tres modelos de vehiculos (A, B, C) y los precios\n",
    "    del seguro según el color.\n",
    "\n",
    "    MODELO COLOR PRECIO\n",
    "\n",
    "    A      Claro 3800\n",
    "        \n",
    "    Oscuro 4330\n",
    "\n",
    "    B      Claro 4930\n",
    "        \n",
    "    Oscuro 5600\n",
    "\n",
    "    C      Claro 7570\n",
    "        \n",
    "    Oscuro 8250\n",
    "\n",
    "    Si el conductor tiene menos de 20 años, el precio se incrementa 25%, si tiene entre 20 a 30 años se\n",
    "    incrementa 10%; si tiene 31 a 65 años el precio no se modifica; si tiene más 65 años el precio se\n",
    "    incrementa un 15%. Si el conductor tiene menos de 2 años de experiencia el precio se incrementa\n",
    "    25%.\n",
    "    Calcular el precio del seguro para un determinado modelo y un determinado conductor."
   ]
  },
  {
   "cell_type": "code",
   "execution_count": null,
   "metadata": {},
   "outputs": [
    {
     "name": "stdout",
     "output_type": "stream",
     "text": [
      "El impuesto total que debe pagar es: 380.0\n"
     ]
    }
   ],
   "source": [
    "\n",
    "#Se define la función que estará validando los datos del usuario\n",
    "#Los parámetros que ingresa son los datos solicitados al usuario\n",
    "def costo(modeloUser,colorUser,edadUser,expConduc):\n",
    "    #se valida la condición que selecciona el usuario para definir un valor base\n",
    "    if modeloUser == 'A' and colorUser == 'claro':\n",
    "        valorBase = 3800\n",
    "    elif modeloUser == 'A' and colorUser == 'oscuro':\n",
    "        valorBase = 4330\n",
    "    elif modeloUser == 'B' and colorUser == 'claro':\n",
    "        valorBase = 4930\n",
    "    elif modeloUser == 'B' and colorUser == 'oscuro':\n",
    "        valorBase = 5600\n",
    "    elif modeloUser == 'C' and colorUser == 'claro':\n",
    "        valorBase = 7570\n",
    "    elif modeloUser == 'C' and colorUser == 'oscuro':\n",
    "        valorBase = 8250\n",
    "    #Se valida la edad ingresada por el usuario para calcular el impuesto\n",
    "    if edadUser < 20 and edadUser >= 0:\n",
    "        impuesto = valorBase * 0.25\n",
    "    elif edadUser >= 20 and edadUser <= 30:\n",
    "        impuesto = valorBase * 0.10\n",
    "    elif edadUser > 30 and edadUser <= 65:\n",
    "        impuesto = 0\n",
    "    elif edadUser > 65:\n",
    "        impuesto = valorBase * 0.15\n",
    "    \n",
    "    #Se valida la experiencia agregada por el usuario para calcular el reccargo del impuesto\n",
    "    if expConduc <= 2:\n",
    "        impuesto = impuesto + valorBase * 0.25\n",
    "\n",
    "    #Se retorna el valor del impuesto para mostrarlo fuera de la función\n",
    "    return impuesto\n",
    "\n",
    "\n",
    "#Se solicitan los datos del usuario\n",
    "edadUser = int(input(\"Ingrese su edad: \"))\n",
    "expConduc = int(input(\"Ingrese sus años de experiencia manejando: \"))\n",
    "modeloUser = input(\"Ingrese su modelo: \")\n",
    "colorUser = input(\"Ingrese su color: \")\n",
    "\n",
    "#Se guarda el valor que retorna la función (el impuesto total)\n",
    "valorTotal = costo(modeloUser,colorUser,edadUser,expConduc)\n",
    "\n",
    "#Se muestra el valor que retorna la funcion (el impuesto total )\n",
    "print(f\"El impuesto total que debe pagar es: {valorTotal}\")\n",
    "\n"
   ]
  },
  {
   "cell_type": "markdown",
   "metadata": {},
   "source": [
    "3. Leer una cantidad en metros o centímetros y posteriormente seleccionar la opción de conversión de\n",
    "longitud al sistema inglés: Yardas o Pulgadas o Pies. Al imprimir el resultado.\n"
   ]
  },
  {
   "cell_type": "code",
   "execution_count": 4,
   "metadata": {},
   "outputs": [
    {
     "name": "stdout",
     "output_type": "stream",
     "text": [
      "150 centímetros a pulgadas son: 59.06\n"
     ]
    }
   ],
   "source": [
    "\n",
    "#Se solicitan datos de conversión\n",
    "centimetros = int(input(\"Ingrese la cantidad de centímetros a convertir: \"))\n",
    "sistema = input(\"Seleccione el sistema para la conversión: \")\n",
    "\n",
    "#Se modifica la elección del usuario a minúsculas para validarlo \n",
    "sistema = sistema.lower()\n",
    "\n",
    "#se valida la selección y se hace el cálculo para la conversión\n",
    "if sistema == 'yardas':\n",
    "    resultado = round(centimetros / 91.44,2)\n",
    "elif sistema == 'pulgadas':\n",
    "    resultado = round(centimetros / 2.54,2)\n",
    "elif sistema == 'pies':\n",
    "    resultado = round(centimetros / 30.48,2)\n",
    "else:\n",
    "    \n",
    "    #Si no ingresa un dato válido, le solicita que ingrese otro\n",
    "    print(\"Ingrese un sistema válido\")\n",
    "    \n",
    "#Muestra el resultado de la conversión\n",
    "print(f\"{centimetros} centímetros a {sistema} son: {resultado}\")"
   ]
  },
  {
   "cell_type": "markdown",
   "metadata": {},
   "source": [
    "4. Calcular la siguiente serie:\n",
    "\n",
    "a. 1/1 + 1/2 + 1/3 +1/4 + … +1/n\n",
    "\n"
   ]
  },
  {
   "cell_type": "code",
   "execution_count": 136,
   "metadata": {},
   "outputs": [
    {
     "name": "stdout",
     "output_type": "stream",
     "text": [
      "1/1 +  1/2 +  1/3 +  1/4 +  1/5 +  1/6 +  1/7 +  1/8 +  1/9 +  1/10 = 5.8579365079365076\n",
      "PI = 4/1 -  PI = 4/3 +  PI = 4/5 -  PI = 4/7 +  4/9 = 3.2523659347188767\n"
     ]
    }
   ],
   "source": [
    "#Se solicita el valor a calcular de la serie\n",
    "n = int(input(\"Ingrese el valor de la serie a calcular\"))\n",
    "\n",
    "#Se declara r como un acumulador para el resultado de la serie\n",
    "r = 0\n",
    "\n",
    "#Se declara un ciclo para acumular el resultado de la serie\n",
    "#y se valida para mostrar el proceso de la serie\n",
    "for i in range(1,n+1):\n",
    "    #Se acumula el resultado de la serie\n",
    "    resultado = resultado + 1/i\n",
    "    \n",
    "    #validación para mostrar el resultado de la serie\n",
    "    #'Si i es diferente de n, entonces imprima 1/i + -espacio vacio-'\n",
    "    if i != n:\n",
    "        #end funciona para agregar textos o valores al finalizar el proceso\n",
    "        print(f\"1/{i} + \", end=' ')\n",
    "    else:\n",
    "        print(f\"1/{i} = {resultado}\")\n",
    "\n",
    "\n"
   ]
  },
  {
   "cell_type": "markdown",
   "metadata": {},
   "source": [
    "b. PI= 4 – 4/3 + 4/5- 4/7 + 4/9 – 4/11 … 4/n"
   ]
  },
  {
   "cell_type": "code",
   "execution_count": 17,
   "metadata": {},
   "outputs": [
    {
     "name": "stdout",
     "output_type": "stream",
     "text": [
      "4/1 -  4/3 +  4/5 -  4/7 +  4/9 -  4/11 = 3.232315809405594 ≈ π\n"
     ]
    }
   ],
   "source": [
    "\n",
    "#Se importa la librería ceil para redondear números reales hacia arriba\n",
    "from math import ceil\n",
    "\n",
    "#Se solicita el valor a calcular \n",
    "n = int(input(\"Ingrese el valor de la serie a calcular\"))\n",
    "\n",
    "#contador para la cantida de impares\n",
    "#y usarlo para varial el signo del proceso (VISUAL) de la serie\n",
    "cont = 0\n",
    "\n",
    "#Acumulador para el resultado de la serie\n",
    "r = 0\n",
    "\n",
    "#Ciclo para que ser repita el proceso tantas veces sea n\n",
    "#'Para j en el rango de 1 hasta n+1'\n",
    "for j in range(1,n+1):\n",
    "    \n",
    "    #Condición para verificar los elementos pares de la serie y restarlos del acumulador\n",
    "    if j % 2 == 0:\n",
    "        r = r - (4/((j*2)-1))\n",
    "\n",
    "    #Si no son pares:\n",
    "    else:\n",
    "        #Aumento del contador el uno\n",
    "        cont += 1\n",
    "        \n",
    "        #Aumento del acumulador del resultado\n",
    "        r = r + (4/((j*2)-1))\n",
    "        \n",
    "        #Si el contador es par, el signo se cambiará a positivo\n",
    "        if cont % 2 == 0:\n",
    "            signo = '+'\n",
    "        #De lo contrario, será negativo\n",
    "        #'Si el contador es impar, entonces el signo será negativo'\n",
    "        else:\n",
    "            signo = '-'\n",
    "            \n",
    "        #Si mi contador de los impares es diferente del la mitad de n redondeado hacia arriba\n",
    "        #Entonces mostrará el proceso de la serie\n",
    "        if cont != ceil(n/2):\n",
    "            print(f\"4/{j} {signo} \", end=' ')\n",
    "        #Cuando el contador de los impares sea igual a n/2 redondeado hacia arriba\n",
    "        #Entonces mostrará el último elemento de los impares y mostrará el resultado aproximado a la constante PI\n",
    "        else:\n",
    "            print(f\"4/{j} = {r} ≈ π\")\n"
   ]
  },
  {
   "cell_type": "markdown",
   "metadata": {},
   "source": [
    "5. Generar una lista de números aleatorios y calcular cuales y cuantos son los múltiplos de 3."
   ]
  },
  {
   "cell_type": "code",
   "execution_count": 19,
   "metadata": {},
   "outputs": [
    {
     "name": "stdout",
     "output_type": "stream",
     "text": [
      "Lista de números aleatorios: [9, 10, 49, 23, 16, 58, 66, 92, 8, 99, 58, 75, 74, 64, 31, 55, 10, 36, 27, 20, 60, 31, 65, 50, 9, 1, 59, 99, 94, 40, 15, 92, 69, 74, 21, 20, 75, 3, 22, 76, 4, 37, 91, 73, 24, 65, 28, 54, 37, 73, 18, 34, 79, 69, 66, 72, 81, 93, 41, 60, 87, 89, 15, 29, 69, 51, 6, 23, 25, 25, 74, 50, 23, 33, 33, 16, 84, 80, 57, 16, 50, 34, 78, 79, 12, 3, 99, 47, 79, 35, 3, 16, 10, 17, 87, 40, 19, 34, 38] \n",
      "\n",
      "Cantidad de números primos: 38 \n",
      "\n",
      "Multiplos de 3: [9, 66, 99, 75, 36, 27, 60, 9, 99, 15, 69, 21, 75, 3, 24, 54, 18, 69, 66, 72, 81, 93, 60, 87, 15, 69, 51, 6, 33, 33, 84, 57, 78, 12, 3, 99, 3, 87] \n",
      "\n"
     ]
    }
   ],
   "source": [
    "\n",
    "#Se importa la librería random para usar la función randrange para elegir números aleatorios entre un rango\n",
    "from random import randrange\n",
    "\n",
    "#Se asigna la lista vacía para los números aleatorios\n",
    "nAle = []\n",
    "\n",
    "#Se asigna la lista vacía para los números múltiplos de tres\n",
    "mulTres = []\n",
    "\n",
    "#Contador para los números que son múltiplos de tres\n",
    "cont = 0\n",
    "\n",
    "#Ciclo que va de 1 a 100 para agregar cien números\n",
    "for i in range(1,100):\n",
    "    n = randrange(1,100)\n",
    "    nAle.append(n)\n",
    "    \n",
    "#Ciclo que recorre los elementos de la lista vacía para comprobar cuáles son múltiplos de tres\n",
    "for j in nAle:\n",
    "    if j % 3 == 0:\n",
    "        cont += 1\n",
    "        #Los múltiplos de tres se agregan a la lista\n",
    "        mulTres.append(j)\n",
    "        \n",
    "print(f\"Lista de números aleatorios: {nAle} \\n\")\n",
    "print(f\"Cantidad de números primos: {cont} \\n\")\n",
    "print(f\"Multiplos de 3: {mulTres} \\n\")"
   ]
  },
  {
   "cell_type": "markdown",
   "metadata": {},
   "source": [
    "Imprimir el abecedario de forma inversa (z…a), luego solicitar una letra y eliminarla de la lista y mostrar cada resultado de la lista modificada."
   ]
  },
  {
   "cell_type": "code",
   "execution_count": 168,
   "metadata": {},
   "outputs": [
    {
     "name": "stdout",
     "output_type": "stream",
     "text": [
      "['z', 'y', 'x', 'w', 'v', 'u', 't', 's', 'r', 'q', 'p', 'o', 'n', 'm', 'l', 'k', 'j', 'i', 'h', 'g', 'f', 'e', 'd', 'c', 'b', 'a']\n",
      "['b', 'c', 'd', 'e', 'f', 'g', 'h', 'i', 'j', 'k', 'l', 'm', 'n', 'o', 'p', 'q', 'r', 's', 't', 'u', 'v', 'w', 'x', 'y', 'z']\n"
     ]
    }
   ],
   "source": [
    "#Se importa la librería string para usar el alfabeto\n",
    "import string\n",
    "\n",
    "#Se saca el alfabeto con la variable ascii_lowercase\n",
    "alfabeto = list(string.ascii_lowercase)\n",
    "\n",
    "#Se imprime el alfabeto inverso\n",
    "print(alfabeto[::-1])\n",
    "\n",
    "#Se solicita la letra a remover\n",
    "letra = input(\"Ingrese la letra que desea eliminar: \")\n",
    "\n",
    "#Se remueve la letra\n",
    "alfabeto.remove(letra)\n",
    "\n",
    "#Se imprime el nuevo alfabeto\n",
    "print(alfabeto)\n"
   ]
  },
  {
   "cell_type": "markdown",
   "metadata": {},
   "source": [
    "Almacenar una lista de temperaturas de un día (0 – 23 horas). \n",
    "\n",
    "Calcule su media e imprimir la temperatura más alta, y la temperatura más baja e imprimir la hora respectiva.\n",
    "\n",
    "\n",
    "Ejemplo temperatura media 21.5 grados Celsius. temperatura más alta 29 grados Celsius a las 14 horas, temperatura más baja 8 grados Celsius a las 08 horas"
   ]
  },
  {
   "cell_type": "code",
   "execution_count": 174,
   "metadata": {},
   "outputs": [
    {
     "name": "stdout",
     "output_type": "stream",
     "text": [
      "[-62, 47, -84, 96, -84, 93, 48, -64, 98, -7, -3, 20, 63, 84, -40, -51, 95, 74, 87, -8, 19, 14, -43, 59]\n",
      "98\n",
      "-84\n",
      "18.791666666666668\n",
      "18.791666666666668\n"
     ]
    }
   ],
   "source": [
    "\n",
    "#Se  importa la librería random para usar la función randrange\n",
    "from random import randrange\n",
    "\n",
    "#Se declaran las variables para las temperaturas\n",
    "temperaturas = []\n",
    "tempMayor = -100\n",
    "tempMenor = 100\n",
    "\n",
    "#Acumulador para la suma de la temperatura\n",
    "acum = 0\n",
    "\n",
    "#Ciclo que representa el paso de las horas\n",
    "for i in range(1,25):\n",
    "    #Temperatura aleatoria para cada  hora\n",
    "    temperatura = randrange(-100,100)\n",
    "    \n",
    "    #Se agrega la temperatura a una lista \n",
    "    temperaturas.append(temperatura)\n",
    "\n",
    "    #Si la temperatura es menor que la temperatura menor, se cambia su valor\n",
    "    if temperatura < tempMenor:\n",
    "        tempMenor = temperatura\n",
    "    \n",
    "    #Si la temperatura es mayor que la temperatura mayor, se cambia su valor\n",
    "    elif temperatura > tempMayor:\n",
    "        tempMayor = temperatura\n",
    "#Se calcula la media de las temperaturas\n",
    "media = acum / 24\n",
    "\n",
    "#Se muestran los resultados\n",
    "print(f\"Temperaturas durante el día: {temperaturas}\")\n",
    "print(f\"Temperatura mayor: {tempMayor}\")\n",
    "print(f\"Temperatura menor: {tempMenor}\")\n",
    "print(f\"Promedio de la temperatura: {media}\")\n"
   ]
  },
  {
   "cell_type": "markdown",
   "metadata": {},
   "source": [
    "Haga el programa principal con opciones de cinco funciones con paso de parámetros que calcule las \n",
    "siguientes áreas:\n",
    "\n",
    "a. Circulo - Formula PI * R*R\n",
    "\n",
    "b. Cuadrado - Formula lado * lado\n",
    "\n",
    "c. Rectángulo - Formula base * altura\n",
    "\n",
    "d. Triángulo - Formula (base * altura) /2\n",
    "\n",
    "e. Trapecio - Formula ((basex +basey) * altura) /2\n",
    "\n"
   ]
  },
  {
   "cell_type": "code",
   "execution_count": 176,
   "metadata": {},
   "outputs": [
    {
     "name": "stdout",
     "output_type": "stream",
     "text": [
      "circulo : 7853.981633974483\n"
     ]
    }
   ],
   "source": [
    "#NOTA: Se puede simplificar con funciones \n",
    "\n",
    "#Se importa la varible pi de la librería math\n",
    "from math import pi\n",
    "\n",
    "#Se solicita la figura a calcular\n",
    "fig = input(\"Ingrese el nombre de la figura a calcular: \")\n",
    "\n",
    "#Condición que verifica la figura elegida  y cualcula su area\n",
    "if fig == 'circulo':\n",
    "    radio = float(input(\"Ingrese el radio: \"))\n",
    "    area = pi * radio**2\n",
    "elif fig == 'cuadrado':\n",
    "    lado = float(input(\"Ingrese un lado del cuadrado: \"))\n",
    "    area = lado**2\n",
    "elif fig == 'rectangulo':\n",
    "    base = float(input(\"Ingrese la base del rectangulo: \"))\n",
    "    altura = float(input(\"Ingrese la altura del rectangulo: \"))\n",
    "    area = base * altura\n",
    "elif fig == 'triangulo':\n",
    "    base = float(input(\"Ingrese la base del triangulo: \"))\n",
    "    altura = float(input(\"Ingrese la altura del triangulo: \"))\n",
    "    area = base * altura / 2\n",
    "elif fig == 'trapecio':\n",
    "    base_x = float(input(\"Ingrese la base_x del trapecio: \"))\n",
    "    base_y = float(input(\"Ingrese la base_y del trapecio: \"))\n",
    "    altura = float(input(\"Ingrese la altura del trapecio: \"))\n",
    "    area = ((base_x + base_y) * altura)/2\n",
    "\n",
    "\n",
    "print(f\"Area de {fig} : {area}\")\n"
   ]
  },
  {
   "cell_type": "code",
   "execution_count": null,
   "metadata": {},
   "outputs": [],
   "source": []
  }
 ],
 "metadata": {
  "kernelspec": {
   "display_name": "Python 3.9.7 64-bit",
   "language": "python",
   "name": "python3"
  },
  "language_info": {
   "codemirror_mode": {
    "name": "ipython",
    "version": 3
   },
   "file_extension": ".py",
   "mimetype": "text/x-python",
   "name": "python",
   "nbconvert_exporter": "python",
   "pygments_lexer": "ipython3",
   "version": "3.9.5"
  },
  "orig_nbformat": 4,
  "vscode": {
   "interpreter": {
    "hash": "f9a2183a959a16bb7b367f5be2dc4515885f715f13e4a8518dbc64860e566ec8"
   }
  }
 },
 "nbformat": 4,
 "nbformat_minor": 2
}
