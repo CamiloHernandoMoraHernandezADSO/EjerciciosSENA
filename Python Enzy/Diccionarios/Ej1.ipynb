{
 "cells": [
  {
   "cell_type": "markdown",
   "metadata": {},
   "source": [
    "Escribir un programa que pregunte al usuario su nombre, edad, dirección y teléfono y lo guarde en\n",
    "un diccionario. Después debe mostrar por pantalla el mensaje <nombre> tiene <edad> años, vive en\n",
    "<dirección> y su número de teléfono es <teléfono>."
   ]
  },
  {
   "cell_type": "code",
   "execution_count": null,
   "metadata": {},
   "outputs": [],
   "source": [
    "info = {}\n",
    "nombre = input(\"Ingrese su nombre: \")\n",
    "edad = int(input(\"Ingrese su edad: \"))\n",
    "direc = input(\"Ingrese su dirección: \")\n",
    "tel = int(input(\"Ingrese su número:\"))\n",
    "\n",
    "info[\"nombre\"] = nombre\n",
    "info[\"edad\"] = edad\n",
    "info[\"direccion\"] = direc\n",
    "info[\"telefono\"] = tel\n",
    "\n",
    "print(f'{info[\"nombre\"]} tiene {info[\"edad\"]} años, vive en {info[\"direccion\"]} y su número de teléfono es {info[\"telefono\"]}')"
   ]
  },
  {
   "cell_type": "code",
   "execution_count": null,
   "metadata": {},
   "outputs": [],
   "source": []
  }
 ],
 "metadata": {
  "kernelspec": {
   "display_name": "Python 3.9.5 64-bit",
   "language": "python",
   "name": "python3"
  },
  "language_info": {
   "codemirror_mode": {
    "name": "ipython",
    "version": 3
   },
   "file_extension": ".py",
   "mimetype": "text/x-python",
   "name": "python",
   "nbconvert_exporter": "python",
   "pygments_lexer": "ipython3",
   "version": "3.9.5"
  },
  "orig_nbformat": 4,
  "vscode": {
   "interpreter": {
    "hash": "f9a2183a959a16bb7b367f5be2dc4515885f715f13e4a8518dbc64860e566ec8"
   }
  }
 },
 "nbformat": 4,
 "nbformat_minor": 2
}
