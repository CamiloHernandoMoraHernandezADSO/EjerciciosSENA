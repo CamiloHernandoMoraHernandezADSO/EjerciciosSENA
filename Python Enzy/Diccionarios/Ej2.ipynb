{
 "cells": [
  {
   "cell_type": "markdown",
   "metadata": {},
   "source": [
    "Escribir un programa que guarde en un diccionario los precios de las frutas de la tabla, pregunte al\n",
    "usuario por una fruta, un número de kilos y muestre por pantalla el precio de ese número de kilos de\n",
    "fruta. Si la fruta no está en el diccionario debe mostrar un mensaje informando de ello."
   ]
  },
  {
   "cell_type": "code",
   "execution_count": 1,
   "metadata": {},
   "outputs": [
    {
     "name": "stdout",
     "output_type": "stream",
     "text": [
      "44.0\n"
     ]
    }
   ],
   "source": [
    "inventario = {\n",
    "    \"platano\": 1.35,\n",
    "    \"manzana\": 0.80,\n",
    "    \"pera\": 0.85,\n",
    "    \"naranja\": 0.70\n",
    "}\n",
    "\n",
    "fruta = input(\"Ingrese la fruta: \")\n",
    "peso = int(input(\"Ingrese la cantidad de kilos: \"))\n",
    "fruta = fruta.lower()\n",
    "frutas = list(inventario.keys())\n",
    "\n",
    "for i in frutas:\n",
    "    if fruta == i:\n",
    "        valor = peso * inventario[fruta]\n",
    "    \n",
    "print(valor)"
   ]
  },
  {
   "cell_type": "code",
   "execution_count": null,
   "metadata": {},
   "outputs": [],
   "source": []
  }
 ],
 "metadata": {
  "kernelspec": {
   "display_name": "Python 3.9.5 64-bit",
   "language": "python",
   "name": "python3"
  },
  "language_info": {
   "codemirror_mode": {
    "name": "ipython",
    "version": 3
   },
   "file_extension": ".py",
   "mimetype": "text/x-python",
   "name": "python",
   "nbconvert_exporter": "python",
   "pygments_lexer": "ipython3",
   "version": "3.9.5"
  },
  "orig_nbformat": 4,
  "vscode": {
   "interpreter": {
    "hash": "f9a2183a959a16bb7b367f5be2dc4515885f715f13e4a8518dbc64860e566ec8"
   }
  }
 },
 "nbformat": 4,
 "nbformat_minor": 2
}
