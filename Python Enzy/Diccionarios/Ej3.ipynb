{
 "cells": [
  {
   "cell_type": "markdown",
   "metadata": {},
   "source": [
    "Escribir un programa que almacene el diccionario con los créditos de las asignaturas de un\n",
    "curso {'Matemáticas': 6, 'Física': 4, 'Química': 5} y después muestre por pantalla los créditos de cada\n",
    "asignatura en el formato -asignatura- tiene -créditos- créditos, donde -asignatura- es cada una de\n",
    "las asignaturas del curso, y -créditos- son sus créditos. Al final debe mostrar también el número total\n",
    "de créditos del curso."
   ]
  },
  {
   "cell_type": "code",
   "execution_count": 1,
   "metadata": {},
   "outputs": [
    {
     "name": "stdout",
     "output_type": "stream",
     "text": [
      "Matemáticas tiene 6\n",
      "Física tiene 4\n",
      "Química tiene 5\n",
      "Total de créditos : 15\n"
     ]
    }
   ],
   "source": [
    "creditos = {\n",
    "    'Matemáticas': 6,\n",
    "    'Física': 4, \n",
    "    'Química': 5\n",
    "}\n",
    "suma = 0\n",
    "for i in creditos:\n",
    "    suma += creditos[i]\n",
    "    print(f'{i} tiene {creditos[i]}')\n",
    "print(\"Total de créditos :\",suma)\n",
    "    "
   ]
  },
  {
   "cell_type": "code",
   "execution_count": null,
   "metadata": {},
   "outputs": [],
   "source": []
  }
 ],
 "metadata": {
  "kernelspec": {
   "display_name": "Python 3.9.5 64-bit",
   "language": "python",
   "name": "python3"
  },
  "language_info": {
   "codemirror_mode": {
    "name": "ipython",
    "version": 3
   },
   "file_extension": ".py",
   "mimetype": "text/x-python",
   "name": "python",
   "nbconvert_exporter": "python",
   "pygments_lexer": "ipython3",
   "version": "3.9.5"
  },
  "orig_nbformat": 4,
  "vscode": {
   "interpreter": {
    "hash": "f9a2183a959a16bb7b367f5be2dc4515885f715f13e4a8518dbc64860e566ec8"
   }
  }
 },
 "nbformat": 4,
 "nbformat_minor": 2
}
