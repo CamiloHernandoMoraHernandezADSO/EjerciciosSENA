{
 "cells": [
  {
   "cell_type": "markdown",
   "metadata": {},
   "source": [
    "Escribir un programa que cree un diccionario simulando una cesta de la compra. El programa debe\n",
    "preguntar el artículo y su precio y añadir el par al diccionario, hasta que el usuario decida terminar.\n",
    "Después se debe mostrar por pantalla la lista de la compra y el coste total, con el siguiente formato."
   ]
  },
  {
   "cell_type": "code",
   "execution_count": 4,
   "metadata": {},
   "outputs": [
    {
     "name": "stdout",
     "output_type": "stream",
     "text": [
      "Si no desea agregar más artículos, presione 0\n",
      "|\tArticulo de la compra           |\n",
      "|\tManzana\t\t|\t1200    |\n",
      "|\tPera\t\t|\t800     |\n",
      "|\tAguacate\t|\t1000    |\n",
      "|\tPiña\t\t|\t2500    |\n",
      "|\tFresa\t\t|\t1200    |\n",
      "|\tTotal\t\t|\t6700    |\n"
     ]
    }
   ],
   "source": [
    "import textwrap\n",
    "# ------------------------------------------------------------------------\n",
    "#                   PROCESO DEL EJERCICIO\n",
    "compras = {}\n",
    "\n",
    "print(\"Si no desea agregar más artículos, presione 0\")\n",
    "total = 0 \n",
    "while True:\n",
    "    arti = input(\"Ingrese el articulo para agregar al carrito: \")\n",
    "    if arti == '0':\n",
    "        break\n",
    "    \n",
    "    valor = int(input(f\"Ingrese el valor de {arti}: \"))\n",
    "    compras[arti] = valor\n",
    "    total += valor\n",
    "\n",
    "#--------------------------------------------------------------------------\n",
    "#                   CODIGO ADICIONAL PARA LOS DETALLES \n",
    "cont = 0\n",
    "prefix = \"|\\t\"\n",
    "expanded_indent = textwrap.fill(prefix+'$', replace_whitespace=False)[:-1]\n",
    "subsequent_indent = '\\n' * len(expanded_indent)\n",
    "contenedor = textwrap.TextWrapper(initial_indent=prefix,subsequent_indent=subsequent_indent)\n",
    "\n",
    "for i in compras:\n",
    "\n",
    "    mensaje = f\"{compras[i]} \\t|\"\n",
    "    if cont == 0:\n",
    "        texto = \"Articulo de la compra \\t\\t|\"\n",
    "        print(contenedor.fill(texto))\n",
    "\n",
    "    if len(i) >= 8 :\n",
    "        print(contenedor.fill(i) + \"\\t\" + contenedor.fill(mensaje))\n",
    "    else:\n",
    "        print(contenedor.fill(i) + \"\\t\\t\" + contenedor.fill(mensaje))\n",
    "    cont += 1\n",
    "\n",
    "print(contenedor.fill(\"Total\") + \"\\t\\t\" + contenedor.fill(f\"{total}\\t|\"))\n",
    "\n",
    "\n",
    "\n"
   ]
  }
 ],
 "metadata": {
  "kernelspec": {
   "display_name": "Python 3.10.6 64-bit",
   "language": "python",
   "name": "python3"
  },
  "language_info": {
   "codemirror_mode": {
    "name": "ipython",
    "version": 3
   },
   "file_extension": ".py",
   "mimetype": "text/x-python",
   "name": "python",
   "nbconvert_exporter": "python",
   "pygments_lexer": "ipython3",
   "version": "3.10.6"
  },
  "orig_nbformat": 4,
  "vscode": {
   "interpreter": {
    "hash": "369f2c481f4da34e4445cda3fffd2e751bd1c4d706f27375911949ba6bb62e1c"
   }
  }
 },
 "nbformat": 4,
 "nbformat_minor": 2
}
