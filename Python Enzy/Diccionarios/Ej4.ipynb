{
 "cells": [
  {
   "cell_type": "markdown",
   "metadata": {},
   "source": [
    "Escribir un programa que cree un diccionario simulando una cesta de la compra. El programa debe\n",
    "preguntar el artículo y su precio y añadir el par al diccionario, hasta que el usuario decida terminar.\n",
    "Después se debe mostrar por pantalla la lista de la compra y el coste total, con el siguiente formato."
   ]
  },
  {
   "cell_type": "code",
   "execution_count": 11,
   "metadata": {},
   "outputs": [
    {
     "name": "stdout",
     "output_type": "stream",
     "text": [
      "Si no desea agregar más artículos, presione 0\n",
      "|\tArticulo de la compra           |\n",
      "|\tmanzana\t\t|\t2       |\n",
      "|\tpera\t\t|\t1       |\n",
      "|\tTotal\t\t|\t0\n"
     ]
    }
   ],
   "source": [
    "import textwrap\n",
    "compras = {}\n",
    "\n",
    "\n",
    "print(\"Si no desea agregar más artículos, presione 0\")\n",
    "while True:\n",
    "    total = 0 \n",
    "    arti = input(\"Ingrese el articulo para agregar al carrito: \")\n",
    "    if arti == '0':\n",
    "        break\n",
    "    \n",
    "    valor = int(input(f\"Ingrese el valor de {arti}: \"))\n",
    "    compras[arti] = valor\n",
    "    total += valor\n",
    "\n",
    "cont = 0\n",
    "prefix = \"|\\t\"\n",
    "expanded_indent = textwrap.fill(prefix+'$', replace_whitespace=False)[:-1]\n",
    "subsequent_indent = '\\n' * len(expanded_indent)\n",
    "wrapper = textwrap.TextWrapper(initial_indent=prefix,subsequent_indent=subsequent_indent)\n",
    "for i in compras:\n",
    "\n",
    "    message = f\"{compras[i]} \\t|\"\n",
    "    if cont == 0:\n",
    "        text = \"Articulo de la compra \\t\\t|\"\n",
    "        print(wrapper.fill(text))\n",
    "\n",
    "    if len(i) >= 8 :\n",
    "        print(wrapper.fill(i) + \"\\t\" + wrapper.fill(message))\n",
    "    else:\n",
    "        print(wrapper.fill(i) + \"\\t\\t\" + wrapper.fill(message))\n",
    "    cont += 1\n",
    "\n",
    "print(wrapper.fill(\"Total\") + \"\\t\\t\" + wrapper.fill(f\"{total}|\"))\n",
    "\n",
    "\n",
    "\n"
   ]
  }
 ],
 "metadata": {
  "kernelspec": {
   "display_name": "Python 3.10.4 64-bit",
   "language": "python",
   "name": "python3"
  },
  "language_info": {
   "codemirror_mode": {
    "name": "ipython",
    "version": 3
   },
   "file_extension": ".py",
   "mimetype": "text/x-python",
   "name": "python",
   "nbconvert_exporter": "python",
   "pygments_lexer": "ipython3",
   "version": "3.10.4"
  },
  "orig_nbformat": 4,
  "vscode": {
   "interpreter": {
    "hash": "4000d5fabbf16d46b8685b20ddb4f1205c9618754029a947dbb2cc2ce311cc0f"
   }
  }
 },
 "nbformat": 4,
 "nbformat_minor": 2
}
