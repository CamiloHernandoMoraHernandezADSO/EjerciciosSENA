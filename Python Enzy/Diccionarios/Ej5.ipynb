{
 "cells": [
  {
   "cell_type": "markdown",
   "metadata": {},
   "source": [
    "Escribir un programa que cree un diccionario de traducción español-inglés. El usuario introducirá las \n",
    "palabras en español e inglés separadas por dos puntos, y cada \n",
    "par -palabra-: -traducción- separados por comas. El programa debe crear un diccionario con las \n",
    "palabras y sus traducciones. Después pedirá una frase en español y utilizará el diccionario para \n",
    "traducirla palabra a palabra. Si una palabra no está en el diccionario debe dejarla sin traducir"
   ]
  },
  {
   "cell_type": "code",
   "execution_count": null,
   "metadata": {},
   "outputs": [],
   "source": [
    "palabras = {}\n",
    "print(\"Si no desea agregar mas palabras, ingrese 0\")\n",
    "while(True):\n",
    "    \n",
    "    spa = input(\"Ingrese la palabra en español: \").lower()\n",
    "    print(spa)\n",
    "    if spa == '0':\n",
    "        break\n",
    "    eng = input(\"Ingrese la traduccion: \").lower()\n",
    "    palabras[spa] = eng\n",
    "\n",
    "\n",
    "frase = input(\"Ingrese una frase para traducir: \").lower()\n",
    "listFrase = frase.split()\n",
    "\n",
    "for i, j in enumerate(palabras):\n",
    "\n",
    "    if j == listFrase[i]:\n",
    "        print(palabras[j], end=' ')\n",
    "\n",
    "\n",
    "\n",
    "\n"
   ]
  }
 ],
 "metadata": {
  "kernelspec": {
   "display_name": "Python 3.10.6 64-bit",
   "language": "python",
   "name": "python3"
  },
  "language_info": {
   "codemirror_mode": {
    "name": "ipython",
    "version": 3
   },
   "file_extension": ".py",
   "mimetype": "text/x-python",
   "name": "python",
   "nbconvert_exporter": "python",
   "pygments_lexer": "ipython3",
   "version": "3.10.6"
  },
  "orig_nbformat": 4,
  "vscode": {
   "interpreter": {
    "hash": "369f2c481f4da34e4445cda3fffd2e751bd1c4d706f27375911949ba6bb62e1c"
   }
  }
 },
 "nbformat": 4,
 "nbformat_minor": 2
}
