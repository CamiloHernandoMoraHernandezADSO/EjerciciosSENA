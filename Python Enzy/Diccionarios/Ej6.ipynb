{
 "cells": [
  {
   "cell_type": "markdown",
   "metadata": {},
   "source": [
    "Escribir un programa que gestione las facturas pendientes de cobro de una empresa. Las facturas se \n",
    "almacenarán en un diccionario donde la clave de cada factura será el número de factura y el valor el \n",
    "coste de la factura. El programa debe preguntar al usuario si quiere añadir una nueva factura, pagar \n",
    "una existente o terminar. Si desea añadir una nueva factura se preguntará por el número de factura \n",
    "y su coste y se añadirá al diccionario. Si se desea pagar una factura se preguntará por el número de \n",
    "factura y se eliminará del diccionario. Después de cada operación el programa debe mostrar por \n",
    "pantalla la cantidad cobrada hasta el momento y la cantidad pendiente de cobro."
   ]
  },
  {
   "cell_type": "code",
   "execution_count": 12,
   "metadata": {},
   "outputs": [
    {
     "name": "stdout",
     "output_type": "stream",
     "text": [
      "\n",
      "\n",
      "    (+) Agregar factura\n",
      "    (-) Pagar factura\n",
      "    (*) Terminar\n",
      "\n",
      "Total cobrado:  80000\n",
      "Total pendiente:  150000\n"
     ]
    }
   ],
   "source": [
    "facturas = {}\n",
    "cobrado = 0\n",
    "pendiente = 0\n",
    "print(\"\"\"\n",
    "\n",
    "    (+) Agregar factura\n",
    "    (-) Pagar factura\n",
    "    (*) Terminar\n",
    "\"\"\")\n",
    "while True:\n",
    "\n",
    "    estado = input(\"¿Qué desea hacer? (+,-,*): \")\n",
    "    if(estado == '*' or (estado != '+' and estado != '-')):\n",
    "        break\n",
    "    elif estado == '+':\n",
    "        numFact = int(input(\"Ingrese el numero de la factura: \"))\n",
    "        valFact = int(input(\"Ingrese el valor de la factura: \"))\n",
    "        facturas[numFact] = valFact\n",
    "    elif estado == '-':\n",
    "        numFact = int(input(\"Ingrese el numero de la factura: \"))\n",
    "        cobrado += facturas[numFact]\n",
    "        facturas.pop(numFact)\n",
    "\n",
    "for i in facturas.values():\n",
    "    pendiente += i\n",
    "\n",
    "print(\"Total cobrado: \", cobrado)\n",
    "print(\"Total pendiente: \", pendiente)\n",
    "        "
   ]
  },
  {
   "cell_type": "code",
   "execution_count": null,
   "metadata": {},
   "outputs": [],
   "source": []
  },
  {
   "cell_type": "code",
   "execution_count": null,
   "metadata": {},
   "outputs": [],
   "source": []
  }
 ],
 "metadata": {
  "kernelspec": {
   "display_name": "Python 3.10.6 64-bit",
   "language": "python",
   "name": "python3"
  },
  "language_info": {
   "codemirror_mode": {
    "name": "ipython",
    "version": 3
   },
   "file_extension": ".py",
   "mimetype": "text/x-python",
   "name": "python",
   "nbconvert_exporter": "python",
   "pygments_lexer": "ipython3",
   "version": "3.10.6"
  },
  "orig_nbformat": 4,
  "vscode": {
   "interpreter": {
    "hash": "369f2c481f4da34e4445cda3fffd2e751bd1c4d706f27375911949ba6bb62e1c"
   }
  }
 },
 "nbformat": 4,
 "nbformat_minor": 2
}
