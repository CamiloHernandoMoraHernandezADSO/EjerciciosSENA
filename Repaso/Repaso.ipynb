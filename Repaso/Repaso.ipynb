{
 "cells": [
  {
   "cell_type": "markdown",
   "metadata": {},
   "source": [
    "Ejercicio 1\n",
    "\n",
    "\n",
    "    Calcular la paga de un trabajador según sean las horas trabajadas y precio por hora para el trabajo\n",
    "    que realice, entre las siguientes opciones.\n",
    "\n",
    "    Oficio: Intendencia\n",
    "    Valor hora: 35000\n",
    "\n",
    "    Oficio: Directivo\n",
    "    Valor hora: 1200000\n",
    "\n",
    "    Oficio: Asistente\n",
    "    Valor hora: 50000\n",
    "\n",
    "    Oficio: Gerente\n",
    "    Valor hora: 1500000\n",
    "\n",
    "    Oficio: Administrativo\n",
    "    Valor hora: 80000\n"
   ]
  },
  {
   "cell_type": "code",
   "execution_count": 7,
   "metadata": {},
   "outputs": [
    {
     "name": "stdout",
     "output_type": "stream",
     "text": [
      "\n",
      "      \n",
      "    | |     Oficio     |\n",
      "    | |----------------|\n",
      "    |*|   Intendencia  |\n",
      "    |*|   Directivo    |\n",
      "    |*|   Asistente    |\n",
      "    |*|    Gerente     |\n",
      "    |*| Administrativo |\n",
      "    \n",
      "    \n",
      "Su salario es de: 175000\n"
     ]
    }
   ],
   "source": [
    "print(\"\"\"\n",
    "      \n",
    "    | |     Oficio     |\n",
    "    | |----------------|\n",
    "    |*|   Intendencia  |\n",
    "    |*|   Directivo    |\n",
    "    |*|   Asistente    |\n",
    "    |*|    Gerente     |\n",
    "    |*| Administrativo |\n",
    "    \n",
    "    \"\"\"\n",
    ")\n",
    "\n",
    "horas = int(input(\"Ingrese la cantidad de horas trabajadas: \"))\n",
    "solOficio = input(\"Ingrese el oficio al que pertenece: \")\n",
    "solOficio = solOficio.lower()\n",
    "oficio = [\"intendencia\",\"directivo\",\"Asistente\",\"gerente\",\"administrativo\"]\n",
    "\n",
    "if solOficio == oficio[0]:\n",
    "    valorHora = 35000\n",
    "elif solOficio == oficio[1]:\n",
    "    valorHora = 1200000\n",
    "elif solOficio == oficio[2]:\n",
    "    valorHora = 50000\n",
    "elif solOficio == oficio[3]:\n",
    "    valorHora = 1500000\n",
    "elif solOficio == oficio[4]:\n",
    "    valorHora = 80000\n",
    "    \n",
    "print(f\"Su salario es de: {horas * valorHora}\")"
   ]
  },
  {
   "cell_type": "markdown",
   "metadata": {},
   "source": [
    "El impuesto anual del seguro de un auto depende del modelo del Vehiculo, del color, de la edad del\n",
    "conductor y el tiempo que tiene conduciendo. Son tres modelos de vehiculos (A, B, C) y los precios\n",
    "del seguro según el color.\n",
    "\n",
    "MODELO COLOR PRECIO\n",
    "\n",
    "A      Claro 3800\n",
    "       \n",
    "Oscuro 4330\n",
    "\n",
    "B      Claro 4930\n",
    "       \n",
    "Oscuro 5600\n",
    "\n",
    "C      Claro 7570\n",
    "       \n",
    "Oscuro 8250\n",
    "\n",
    "Si el conductor tiene menos de 20 años, el precio se incrementa 25%, si tiene entre 20 a 30 años se\n",
    "incrementa 10%; si tiene 31 a 65 años el precio no se modifica; si tiene más 65 años el precio se\n",
    "incrementa un 15%. Si el conductor tiene menos de 2 años de experiencia el precio se incrementa\n",
    "25%.\n",
    "Calcular el precio del seguro para un determinado modelo y un determinado conductor."
   ]
  },
  {
   "cell_type": "code",
   "execution_count": null,
   "metadata": {},
   "outputs": [],
   "source": [
    "modelos = [\"A\",\"B\",\"C\"]\n",
    "colores = [\"Claro\", \"Oscuro\"]\n",
    "precios = [3800,4330,4930,5600,7570,8250]\n",
    "edadUser = int(input(\"Ingrese su edad: \"))\n",
    "expConduc = int(input(\"Ingrese sus años de experiencia manejando: \"))\n",
    "modeloUser = input(\"Ingrese su modelo: \")\n",
    "colorUser = input(\"Ingrese su color: \")\n",
    "precioUser = int(input(\"Ingrese su precio\"))\n",
    "print()"
   ]
  }
 ],
 "metadata": {
  "kernelspec": {
   "display_name": "Python 3.10.6 64-bit",
   "language": "python",
   "name": "python3"
  },
  "language_info": {
   "codemirror_mode": {
    "name": "ipython",
    "version": 3
   },
   "file_extension": ".py",
   "mimetype": "text/x-python",
   "name": "python",
   "nbconvert_exporter": "python",
   "pygments_lexer": "ipython3",
   "version": "3.10.6"
  },
  "orig_nbformat": 4,
  "vscode": {
   "interpreter": {
    "hash": "4000d5fabbf16d46b8685b20ddb4f1205c9618754029a947dbb2cc2ce311cc0f"
   }
  }
 },
 "nbformat": 4,
 "nbformat_minor": 2
}
