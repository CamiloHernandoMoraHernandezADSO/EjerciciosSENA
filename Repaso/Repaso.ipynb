{
 "cells": [
  {
   "cell_type": "markdown",
   "metadata": {},
   "source": [
    "1. Calcular la paga de un trabajador según sean las horas trabajadas y precio por hora para el trabajo\n",
    "    que realice, entre las siguientes opciones.\n",
    "\n",
    "    Oficio: Intendencia\n",
    "    Valor hora: 35000\n",
    "\n",
    "    Oficio: Directivo\n",
    "    Valor hora: 1200000\n",
    "\n",
    "    Oficio: Asistente\n",
    "    Valor hora: 50000\n",
    "\n",
    "    Oficio: Gerente\n",
    "    Valor hora: 1500000\n",
    "\n",
    "    Oficio: Administrativo\n",
    "    Valor hora: 80000\n"
   ]
  },
  {
   "cell_type": "code",
   "execution_count": 7,
   "metadata": {},
   "outputs": [
    {
     "name": "stdout",
     "output_type": "stream",
     "text": [
      "\n",
      "      \n",
      "    | |     Oficio     |\n",
      "    | |----------------|\n",
      "    |*|   Intendencia  |\n",
      "    |*|   Directivo    |\n",
      "    |*|   Asistente    |\n",
      "    |*|    Gerente     |\n",
      "    |*| Administrativo |\n",
      "    \n",
      "    \n",
      "Su salario es de: 175000\n"
     ]
    }
   ],
   "source": [
    "print(\"\"\"\n",
    "      \n",
    "    | |     Oficio     |\n",
    "    | |----------------|\n",
    "    |*|   Intendencia  |\n",
    "    |*|   Directivo    |\n",
    "    |*|   Asistente    |\n",
    "    |*|    Gerente     |\n",
    "    |*| Administrativo |\n",
    "    \n",
    "    \"\"\"\n",
    ")\n",
    "\n",
    "horas = int(input(\"Ingrese la cantidad de horas trabajadas: \"))\n",
    "solOficio = input(\"Ingrese el oficio al que pertenece: \")\n",
    "solOficio = solOficio.lower()\n",
    "oficio = [\"intendencia\",\"directivo\",\"Asistente\",\"gerente\",\"administrativo\"]\n",
    "\n",
    "if solOficio == oficio[0]:\n",
    "    valorHora = 35000\n",
    "elif solOficio == oficio[1]:\n",
    "    valorHora = 1200000\n",
    "elif solOficio == oficio[2]:\n",
    "    valorHora = 50000\n",
    "elif solOficio == oficio[3]:\n",
    "    valorHora = 1500000\n",
    "elif solOficio == oficio[4]:\n",
    "    valorHora = 80000\n",
    "    \n",
    "print(f\"Su salario es de: {horas * valorHora}\")"
   ]
  },
  {
   "cell_type": "markdown",
   "metadata": {},
   "source": [
    "2. \n",
    "    El impuesto anual del seguro de un auto depende del modelo del Vehiculo, del color, de la edad del\n",
    "    conductor y el tiempo que tiene conduciendo. Son tres modelos de vehiculos (A, B, C) y los precios\n",
    "    del seguro según el color.\n",
    "\n",
    "    MODELO COLOR PRECIO\n",
    "\n",
    "    A      Claro 3800\n",
    "        \n",
    "    Oscuro 4330\n",
    "\n",
    "    B      Claro 4930\n",
    "        \n",
    "    Oscuro 5600\n",
    "\n",
    "    C      Claro 7570\n",
    "        \n",
    "    Oscuro 8250\n",
    "\n",
    "    Si el conductor tiene menos de 20 años, el precio se incrementa 25%, si tiene entre 20 a 30 años se\n",
    "    incrementa 10%; si tiene 31 a 65 años el precio no se modifica; si tiene más 65 años el precio se\n",
    "    incrementa un 15%. Si el conductor tiene menos de 2 años de experiencia el precio se incrementa\n",
    "    25%.\n",
    "    Calcular el precio del seguro para un determinado modelo y un determinado conductor."
   ]
  },
  {
   "cell_type": "code",
   "execution_count": 1,
   "metadata": {},
   "outputs": [
    {
     "name": "stdout",
     "output_type": "stream",
     "text": [
      "El impuesto total que debe pagar es: 380.0\n"
     ]
    }
   ],
   "source": [
    "\n",
    "\n",
    "def costo(modeloUser,colorUser,edadUser,expConduc):\n",
    "    if modeloUser == 'A' and colorUser == 'claro':\n",
    "        valorBase = 3800\n",
    "    elif modeloUser == 'A' and colorUser == 'oscuro':\n",
    "        valorBase = 4330\n",
    "    elif modeloUser == 'B' and colorUser == 'claro':\n",
    "        valorBase = 4930\n",
    "    elif modeloUser == 'B' and colorUser == 'oscuro':\n",
    "        valorBase = 5600\n",
    "    elif modeloUser == 'C' and colorUser == 'claro':\n",
    "        valorBase = 7570\n",
    "    elif modeloUser == 'C' and colorUser == 'oscuro':\n",
    "        valorBase = 8250\n",
    "    \n",
    "    if edadUser < 20 and edadUser >= 0:\n",
    "        impuesto = valorBase * 0.25\n",
    "    elif edadUser >= 20 and edadUser <= 30:\n",
    "        impuesto = valorBase * 0.10\n",
    "    elif edadUser > 30 and edadUser <= 65:\n",
    "        impuesto = 0\n",
    "    elif edadUser > 65:\n",
    "        impuesto = valorBase * 0.15\n",
    "    if expConduc <= 2:\n",
    "        impuesto = impuesto + valorBase * 0.25\n",
    "\n",
    "    return impuesto\n",
    "\n",
    "edadUser = int(input(\"Ingrese su edad: \"))\n",
    "expConduc = int(input(\"Ingrese sus años de experiencia manejando: \"))\n",
    "modeloUser = input(\"Ingrese su modelo: \")\n",
    "colorUser = input(\"Ingrese su color: \")\n",
    "\n",
    "valorTotal = costo(modeloUser,colorUser,edadUser,expConduc)\n",
    "\n",
    "print(f\"El impuesto total que debe pagar es: {valorTotal}\")\n",
    "\n"
   ]
  },
  {
   "cell_type": "markdown",
   "metadata": {},
   "source": [
    "3. Leer una cantidad en metros o centímetros y posteriormente seleccionar la opción de conversión de\n",
    "longitud al sistema inglés: Yardas o Pulgadas o Pies. Al imprimir el resultado.\n"
   ]
  },
  {
   "cell_type": "code",
   "execution_count": 4,
   "metadata": {},
   "outputs": [
    {
     "name": "stdout",
     "output_type": "stream",
     "text": [
      "150 centímetros a pulgadas son: 59.06\n"
     ]
    }
   ],
   "source": [
    "centimetros = int(input(\"Ingrese la cantidad de centímetros a convertir: \"))\n",
    "sistema = input(\"Seleccione el sistema para la conversión: \")\n",
    "\n",
    "sistema = sistema.lower()\n",
    "if sistema == 'yardas':\n",
    "    resultado = round(centimetros / 91.44,2)\n",
    "elif sistema == 'pulgadas':\n",
    "    resultado = round(centimetros / 2.54,2)\n",
    "elif sistema == 'pies':\n",
    "    resultado = round(centimetros / 30.48,2)\n",
    "else:\n",
    "    print(\"Ingrese un sistema válido\")\n",
    "print(f\"{centimetros} centímetros a {sistema} son: {resultado}\")"
   ]
  },
  {
   "cell_type": "markdown",
   "metadata": {},
   "source": [
    "4. Calcular la siguiente serie:\n",
    "\n",
    "a. 1/1 + 1/2 + 1/3 +1/4 + … +1/n\n",
    "\n",
    "b. PI= 4 – 4/3 + 4/5- 4/7 + 4/9 – 4/11 … 4/n"
   ]
  },
  {
   "cell_type": "code",
   "execution_count": null,
   "metadata": {},
   "outputs": [],
   "source": [
    "n = int(input(\"Ingrese el valor de la serie a calcular\"))"
   ]
  }
 ],
 "metadata": {
  "kernelspec": {
   "display_name": "Python 3.9.7 64-bit",
   "language": "python",
   "name": "python3"
  },
  "language_info": {
   "codemirror_mode": {
    "name": "ipython",
    "version": 3
   },
   "file_extension": ".py",
   "mimetype": "text/x-python",
   "name": "python",
   "nbconvert_exporter": "python",
   "pygments_lexer": "ipython3",
   "version": "3.9.7"
  },
  "orig_nbformat": 4,
  "vscode": {
   "interpreter": {
    "hash": "f9a2183a959a16bb7b367f5be2dc4515885f715f13e4a8518dbc64860e566ec8"
   }
  }
 },
 "nbformat": 4,
 "nbformat_minor": 2
}
